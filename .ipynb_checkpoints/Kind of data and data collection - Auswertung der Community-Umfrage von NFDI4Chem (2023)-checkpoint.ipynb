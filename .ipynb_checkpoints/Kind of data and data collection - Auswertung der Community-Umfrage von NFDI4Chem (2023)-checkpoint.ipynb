{
 "cells": [
  {
   "cell_type": "code",
   "execution_count": null,
   "id": "6217e6ae",
   "metadata": {},
   "outputs": [],
   "source": [
    "import pandas as pd\n",
    "import numpy as np\n",
    "import matplotlib as mpl\n",
    "import matplotlib.pyplot as plt\n",
    "import seaborn as sns\n",
    "\n",
    "# Datei mit UTF-16-Codierung einlesen\n",
    "data = pd.read_csv('data_nfdi4chem2023_survey.csv', encoding='utf-16', delimiter='\\t')\n",
    "values = pd.read_csv('values_nfdi4chem2023_survey.csv', encoding='utf-16', delimiter='\\t')\n",
    "variables = pd.read_csv('variables_nfdi4chem2023_survey.csv', encoding='utf-16', delimiter='\\t')"
   ]
  },
  {
   "cell_type": "code",
   "execution_count": null,
   "id": "cb9b5e24",
   "metadata": {},
   "outputs": [],
   "source": [
    "df_data = pd.DataFrame (data)\n",
    "df_values = pd.DataFrame (values)\n",
    "df_variables = pd.DataFrame (variables)"
   ]
  },
  {
   "cell_type": "code",
   "execution_count": null,
   "id": "f0254232",
   "metadata": {
    "scrolled": true
   },
   "outputs": [],
   "source": [
    "# Daten bereinigen. Spalten und Zeilen mit NaN entfernen.\n",
    "# Df mit ausgewählten Spalten erstellen\n",
    "selected_columns = ['CASE', 'A001', 'A001s', 'A002', 'A002_05', 'A003', 'A003_07', 'A004', 'A004_01', 'A004_02', 'A004_03', 'A004_04', 'A004_05', 'A004_06', 'A004_07', 'A004_08', 'A004_09', 'A004_10', 'A004_11', 'A004_12', 'A004_13', 'A004_13a', 'B001', 'B001_01', 'B001_02', 'B001_03', 'B001_04', 'B001_05', 'B001_06', 'B001_07', 'B001_08', 'B001_08a', 'B002', 'B003_01', 'B004', 'B005_01', 'B006', 'B006_01', 'B006_02', 'B006_03', 'B006_04', 'B006_04a', 'B006_05', 'B006_06', 'B007', 'B025_01', 'B008_CN', 'B008x01', 'B008x02', 'B008x03', 'B008x04', 'B008x05', 'B008x06', 'B008x07', 'B008x08', 'B008x09', 'B027_01', 'B009', 'B026_01', 'B010', 'B011', 'B012', 'B013_01', 'B014', 'B014_01', 'B014_02', 'B014_03', 'B014_04', 'B014_05', 'B014_06', 'B014_07', 'B014_08', 'B014_08a', 'B015', 'B015_01', 'B015_02', 'B015_03', 'B015_04', 'B015_05', 'B015_06', 'B015_08', 'B015_08a', 'B015_07', 'B016', 'B016_01', 'B016_02', 'B016_03', 'B016_04', 'B016_05', 'B016_06', 'B016_07', 'B016_09', 'B016_09a', 'B016_08', 'B017', 'B017_01', 'B017_02', 'B017_03', 'B017_04', 'B017_05', 'B017_05a', 'B018', 'B018_01', 'B019', 'B019_01', 'B019_02', 'B019_03', 'B019_04', 'B019_05', 'B019_05a', 'B019_06', 'B019_07', 'B019_08', 'B019_09', 'B019_10', 'B019_10a', 'B020_01', 'B021', 'B021_01', 'B022_01', 'B023_01', 'B024', 'B024_01', 'B024_02', 'B024_03', 'B024_04', 'B024_05', 'B024_06', 'B024_07', 'B024_08', 'B024_08a', 'C001', 'C002', 'C003', 'C003_01', 'C004', 'C005_01', 'C006', 'C008', 'C008_03', 'C009_01']\n",
    "df_questions_2023 = df_data[selected_columns]\n",
    "df_questions_2023"
   ]
  },
  {
   "cell_type": "code",
   "execution_count": null,
   "id": "b77facff",
   "metadata": {
    "scrolled": false
   },
   "outputs": [],
   "source": [
    "# Zeilen filtern, bei denen nach der Spalte A002 keine Einträge mehr folgen (alle Werte sind NaN)\n",
    "result_rows = df_questions_2023[df_questions_2023.iloc[:, df_questions_2023.columns.get_loc('A002')+1:].isna().all(axis=1)]\n",
    "\n",
    "# gefundene leere Zeilen aus dem df entfernen \n",
    "# bereinigten df erzeugen\n",
    "df_cleanquest_2023 = df_questions_2023.drop(result_rows.index)\n",
    "\n",
    "df_cleanquest_2023"
   ]
  },
  {
   "cell_type": "code",
   "execution_count": null,
   "id": "c5f09658",
   "metadata": {},
   "outputs": [],
   "source": [
    "# NFDI4Chem-Farben definieren\n",
    "petrol_rgb = (0/255, 156/255, 188/255)\n",
    "orange_rgb = (238/255, 116/255, 0/255)\n",
    "yellow_rgb = (241/255, 222/255, 30/255)"
   ]
  },
  {
   "cell_type": "markdown",
   "id": "0ed2d43e",
   "metadata": {},
   "source": [
    "## B05. Which kind of data do you collect in your research?\n",
    "### Multiple selections possible."
   ]
  },
  {
   "cell_type": "code",
   "execution_count": null,
   "id": "9a6e66df",
   "metadata": {
    "scrolled": true
   },
   "outputs": [],
   "source": [
    "# Spalten mit Namen, die \"B001\" enthalten, anzeigen\n",
    "df_B001 = df_cleanquest_2023.filter(like='B001')\n",
    "df_B001"
   ]
  },
  {
   "cell_type": "code",
   "execution_count": null,
   "id": "021b3696",
   "metadata": {
    "scrolled": true
   },
   "outputs": [],
   "source": [
    "# Leeres Dictionary für die Werte erstellen\n",
    "values_dict = {}\n",
    "\n",
    "# For-Schleife um Zeilen zu durchsuchen, bei denen die Spalte \"VAR\" den aktuellen Spaltennamen (column) enthält. \n",
    "# Ergebnis in values_dict speichern\n",
    "for col_name in df_B001:\n",
    "    values_dict[col_name] = df_values[df_values[\"VAR\"] == col_name]\n",
    "\n",
    "# Ergebnisse anzeigen\n",
    "for col_name, values_df in values_dict.items():\n",
    "    print(f\"Values for {col_name}:\")\n",
    "    print(values_df)\n",
    "    print()"
   ]
  },
  {
   "cell_type": "code",
   "execution_count": null,
   "id": "7d2fdf37",
   "metadata": {
    "scrolled": true
   },
   "outputs": [],
   "source": [
    "# Zeilen von Index 27 bis 36 anzeigen\n",
    "selected_rows_B001 = df_variables.iloc[27:37]\n",
    "selected_rows_B001"
   ]
  },
  {
   "cell_type": "code",
   "execution_count": null,
   "id": "12098845",
   "metadata": {},
   "outputs": [],
   "source": [
    "# Spalten umbenennen, so dass Datenbeschreibung bekannt wird\n",
    "# Dictionary erstellen\n",
    "col_name_clear_B001 = {\n",
    "    'B001': 'Ausweichoption (negativ) oder Anzahl',\n",
    "    'B001_01': 'Experimental data from synthesis',\n",
    "    'B001_02': 'Simulation data or quantum mechanical calculations',\n",
    "    'B001_03': 'Spectroscopic data',\n",
    "    'B001_04': 'Microscopic data',\n",
    "    'B001_05': 'Crystallographic data',\n",
    "    'B001_06': 'Voltammetric data',\n",
    "    'B001_07': 'Laboratory / field observation data',\n",
    "    'B001_08': 'other data',\n",
    "    'B001_08a': 'open text'\n",
    "}\n",
    "\n",
    "df_B001 = df_B001.rename(columns=col_name_clear_B001)\n",
    "\n",
    "# Anzahl der Vorkommen von 2 in den Spalten B001_01 - B001_08a zählen und Liste in einen df schreiben\n",
    "df_B001_count = df_B001.apply(lambda col: (col == 2).sum()).to_frame()\n",
    "\n",
    "# Spalten umbenennen\n",
    "df_B001_count.reset_index(inplace=True)\n",
    "df_B001_count.rename(columns={'index':'kind of data', 0:'quantity'}, inplace=True)\n",
    "\n",
    "# Imdex 0 löschen\n",
    "df_B001_count = df_B001_count.drop(0)\n",
    "\n",
    "df_B001_count"
   ]
  },
  {
   "cell_type": "code",
   "execution_count": null,
   "id": "c7cf6e1f",
   "metadata": {},
   "outputs": [],
   "source": [
    "# Freitextantworten und Häufigkeit zur Frage anzeigen ->Spalte B001_08a\n",
    "df_B001_a = df_cleanquest_2023['B001_08a'].value_counts().to_frame()\n",
    "\n",
    "# Spalten benennen\n",
    "df_B001_a.reset_index(inplace=True)\n",
    "df_B001_a.rename(columns={'index': 'kind of data', 'B001_08a': 'quantity'}, inplace=True)\n",
    "\n",
    "df_B001_a"
   ]
  },
  {
   "cell_type": "code",
   "execution_count": null,
   "id": "3eb0ca3f",
   "metadata": {},
   "outputs": [],
   "source": [
    "# Werte mit gleicher Bedeutung zusammenführen\n",
    "df_B001_a['kind of data'] = df_B001_a['kind of data'].apply(lambda x: 'Spectrometric data' if 'spectromet' in x.lower() or 'ms' in x.lower() or 'mass' in x.lower() else \n",
    "                                                               ('Chromatographic data' if 'chrom' in x.lower() or 'hplc' in x.lower() else \n",
    "                                                                ('Scattering data' if 'scat' in x.lower() else\n",
    "                                                                 ('Impedance data' if 'impe' in x.lower() else\n",
    "                                                                  ('Experimental data from synthesis' if 'exp' in x.lower() else\n",
    "                                                                   ('Biological assays' if 'assay' in x.lower() else\n",
    "                                                                    ('Kinetic data' if 'kin' in x.lower() else x)))))))\n",
    "\n",
    "# Gruppieren der Bedeutungen und Summierung durchführen\n",
    "df_B001_grouped = df_B001_a.groupby('kind of data')['quantity'].sum().reset_index()\n",
    "\n",
    "# Ergebnisse nach Häufigkeit sortieren\n",
    "df_B001_sorted = df_B001_grouped.sort_values(by='quantity', ascending=False)\n",
    "\n",
    "print(df_B001_sorted)"
   ]
  },
  {
   "cell_type": "code",
   "execution_count": null,
   "id": "53b49044",
   "metadata": {},
   "outputs": [],
   "source": [
    "# Dfs anhand des gemeinsamen Schlüssels 'kind of data' zusammenführen\n",
    "df_B001_merge = pd.merge(df_B001_sorted, df_B001_count, on='kind of data', how='outer')\n",
    "\n",
    "# Spalten quantity_x und quantity_y zusammenführen und Werte summieren\n",
    "df_B001_merge['merged_quantity'] = df_B001_merge[['quantity_x', 'quantity_y']].sum(axis=1)\n",
    "\n",
    "# Löschen der ursprünglichen Spalten\n",
    "df_B001_merge.drop(['quantity_x', 'quantity_y'], axis=1, inplace=True)\n",
    "\n",
    "df_B001_merge"
   ]
  },
  {
   "cell_type": "code",
   "execution_count": null,
   "id": "0404e865",
   "metadata": {},
   "outputs": [],
   "source": [
    "# Df nach 'quantity' sortieren\n",
    "df_B001_merge_sorted = df_B001_merge.sort_values(by='merged_quantity', ascending=False)\n",
    "\n",
    "print(df_B001_merge_sorted)"
   ]
  },
  {
   "cell_type": "code",
   "execution_count": null,
   "id": "8ee3a8a1",
   "metadata": {},
   "outputs": [],
   "source": [
    "# Spalte \"kind of data\" als Index setzen\n",
    "df_B001_merge_sorted.set_index('kind of data', inplace=True)\n",
    "\n",
    "# Zeilen mit einer Quantity von über 6 filtern\n",
    "df_B001_merge_filter = df_B001_merge_sorted[df_B001_merge_sorted['merged_quantity'] > 6]\n",
    "\n",
    "# Balkendiagramm plotten\n",
    "df_B001_merge_filter.plot.barh(color=orange_rgb)\n",
    "plt.xlabel('Quantity')\n",
    "plt.ylabel('Kind of data')\n",
    "plt.title('Kind of data of the participants')\n",
    "\n",
    "plt.show()"
   ]
  },
  {
   "cell_type": "markdown",
   "id": "ccc0bbc2",
   "metadata": {},
   "source": [
    "## B06. Do you collect any data in a non-electronic format that may be digitized at a later point in time?"
   ]
  },
  {
   "cell_type": "code",
   "execution_count": null,
   "id": "20daf27e",
   "metadata": {},
   "outputs": [],
   "source": [
    "# Spalten mit Namen, die \"B002\" enthalten, anzeigen\n",
    "df_B002 = df_cleanquest_2023.filter(like='B002')\n",
    "df_B002"
   ]
  },
  {
   "cell_type": "code",
   "execution_count": null,
   "id": "62d4ac0d",
   "metadata": {},
   "outputs": [],
   "source": [
    "# Df erstellen, der nur die Werte in der Spalte \"VAR\" gleich \"B004\"enthält\n",
    "values_B002=df_values[df_values[\"VAR\"]==\"B002\"]\n",
    "\n",
    "# Zahlen in den Zellen gegen die Bedeutung ersetzen\n",
    "df_cleanquest_2023[\"B002-m\"]=df_cleanquest_2023[\"B002\"].map(values_B002.drop_duplicates(\"RESPONSE\").set_index(\"RESPONSE\")[\"MEANING\"])\n",
    "df_cleanquest_2023[\"B002-m\"]\n",
    "\n",
    "# Werte zählen und in neuen df schreiben\n",
    "df_B002_counted = df_B002['B002'].value_counts().to_frame()\n",
    "\n",
    "# Spalten umbenennen\n",
    "df_B002_counted.reset_index(inplace=True)\n",
    "df_B002_counted.rename(columns={'index': 'answer', 'B002': 'quantity'}, inplace=True)\n",
    "\n",
    "df_B002_counted"
   ]
  },
  {
   "cell_type": "code",
   "execution_count": null,
   "id": "074bd7b3",
   "metadata": {},
   "outputs": [],
   "source": [
    "# Spalte \"answer\" als Index setzen\n",
    "df_B002_counted.set_index('answer', inplace=True)\n",
    "\n",
    "# Säulendiagramm plotten\n",
    "df_B002_counted.plot.bar(color=orange_rgb)\n",
    "plt.xlabel('Answer')\n",
    "plt.ylabel('Quantity')\n",
    "plt.title('Use of eletronic lab notebooks')\n",
    "\n",
    "plt.show()"
   ]
  },
  {
   "cell_type": "markdown",
   "id": "2cbe5301",
   "metadata": {},
   "source": [
    "### If yes:\n",
    "## B07. Which data do you record this way?"
   ]
  },
  {
   "cell_type": "code",
   "execution_count": null,
   "id": "b163712f",
   "metadata": {},
   "outputs": [],
   "source": [
    "# Spalten mit Namen, die \"B003\" enthalten, anzeigen\n",
    "df_B003 = df_cleanquest_2023.filter(like='B003')\n",
    "df_B003"
   ]
  },
  {
   "cell_type": "code",
   "execution_count": null,
   "id": "99307263",
   "metadata": {},
   "outputs": [],
   "source": [
    "# Werte zählen und in neuen df schreiben\n",
    "df_B003_counted = df_B003['B003_01'].value_counts().to_frame()\n",
    "df_B003_counted"
   ]
  },
  {
   "cell_type": "markdown",
   "id": "b2061486",
   "metadata": {},
   "source": [
    "Diese Frage wurde nur den Personen gezeigt, die angegeben haben, dass sie ein Elektronischen Lab Notebook (ELN) verwenden. Von 397 Personen, die ein ELN einsetzen, haben 274 eine Begründung geliefert."
   ]
  },
  {
   "cell_type": "markdown",
   "id": "ea2c34aa",
   "metadata": {},
   "source": [
    "## B08. Do you have any workflows where digital data is treated in an analogue way to become digital again?"
   ]
  },
  {
   "cell_type": "code",
   "execution_count": null,
   "id": "f5e57153",
   "metadata": {},
   "outputs": [],
   "source": [
    "# Df erstellen, der nur die Werte in der Spalte \"VAR\" gleich \"B004\"enthält\n",
    "values_B004=df_values[df_values[\"VAR\"]==\"B004\"]\n",
    "\n",
    "# Zahlen in den Zellen gegen die Bedeutung ersetzen\n",
    "df_cleanquest_2023[\"B004-m\"]=df_cleanquest_2023[\"B004\"].map(values_B002.drop_duplicates(\"RESPONSE\").set_index(\"RESPONSE\")[\"MEANING\"])\n",
    "df_cleanquest_2023[\"B004-m\"]\n",
    "\n",
    "# Werte zählen und in df schreiben \n",
    "df_B004_counted = df_cleanquest_2023[\"B004-m\"].value_counts().to_frame()\n",
    "\n",
    "# Spalten umbenennen\n",
    "df_B004_counted.reset_index(inplace=True)\n",
    "df_B004_counted.rename(columns={'index': 'answer', 'B004': 'quantity'}, inplace=True)\n",
    "\n",
    "df_B004_counted"
   ]
  },
  {
   "cell_type": "code",
   "execution_count": null,
   "id": "f76b0776",
   "metadata": {},
   "outputs": [],
   "source": [
    "# Spalte \"answer\" als Index setzen\n",
    "df_B004_counted.set_index('answer', inplace=True)\n",
    "\n",
    "# Säulendiagramm plotten\n",
    "df_B004_counted.plot.bar(color=orange_rgb)\n",
    "plt.xlabel('Answer')\n",
    "plt.ylabel('Quantity')\n",
    "plt.title('Digital workflows and analogue data')\n",
    "\n",
    "# Zeige das Diagramm an\n",
    "plt.show()"
   ]
  },
  {
   "cell_type": "markdown",
   "id": "7e5d45a6",
   "metadata": {},
   "source": [
    "### If no:\n",
    "## B09. Can you describe the data analysis steps which you perform without software in your most old-fashioned method?"
   ]
  },
  {
   "cell_type": "code",
   "execution_count": null,
   "id": "a7bfbef0",
   "metadata": {},
   "outputs": [],
   "source": [
    "# Spalten mit Namen, die \"B005\" enthalten, anzeigen\n",
    "df_B005 = df_cleanquest_2023.filter(like='B005')\n",
    "df_B005"
   ]
  },
  {
   "cell_type": "code",
   "execution_count": null,
   "id": "c3bdb207",
   "metadata": {},
   "outputs": [],
   "source": [
    "# Werte zählen und in einen neuen df schreiben\n",
    "df_B005_counted = df_B005['B005_01'].value_counts().to_frame()\n",
    "df_B005_counted"
   ]
  },
  {
   "cell_type": "markdown",
   "id": "128ec778",
   "metadata": {},
   "source": [
    "Diese Frage wurde nur den Personen gezeigt, die angegeben haben, dass sie kein digitalen Daten im analogen Kontext verwenden. Von 169 Personen, haben 129 Schritte oder einzelne Begründungen genannt."
   ]
  },
  {
   "cell_type": "markdown",
   "id": "43a52ed3",
   "metadata": {},
   "source": [
    "## B10. Which version of your data do you archive at the project’s end? \n",
    "### Multiple selections possible."
   ]
  },
  {
   "cell_type": "code",
   "execution_count": null,
   "id": "350e2f07",
   "metadata": {
    "scrolled": true
   },
   "outputs": [],
   "source": [
    "# Spalten mit Namen, die \"B006\" enthalten, anzeigen\n",
    "df_B006 = df_cleanquest_2023.filter(like='B006')\n",
    "df_B006"
   ]
  },
  {
   "cell_type": "code",
   "execution_count": null,
   "id": "233554d3",
   "metadata": {
    "scrolled": true
   },
   "outputs": [],
   "source": [
    "# Leeres Dictionary für die Werte erstellen\n",
    "values_dict = {}\n",
    "\n",
    "# For-Schleife um Zeilen zu durchsuchen, bei denen die Spalte \"VAR\" den aktuellen Spaltennamen (column) enthält. \n",
    "# Ergebnis in values_dict speichern\n",
    "for col_name in df_B006:\n",
    "    values_dict[col_name] = df_values[df_values[\"VAR\"] == col_name]\n",
    "\n",
    "# Ergebnisse anzeigen\n",
    "for col_name, values_df in values_dict.items():\n",
    "    print(f\"Values for {col_name}:\")\n",
    "    print(values_df)\n",
    "    print()"
   ]
  },
  {
   "cell_type": "code",
   "execution_count": null,
   "id": "7edd421c",
   "metadata": {
    "scrolled": true
   },
   "outputs": [],
   "source": [
    "# Zeilen von Index 41 bis 48 anzeigen\n",
    "selected_rows_B006 = df_variables.iloc[41:49]\n",
    "selected_rows_B006"
   ]
  },
  {
   "cell_type": "code",
   "execution_count": null,
   "id": "e2088cbd",
   "metadata": {},
   "outputs": [],
   "source": [
    "# Spalten umbenennen, so dass Art der Daten bekannt wird\n",
    "# Dictionary erstellen\n",
    "col_name_clear_B006 = {\n",
    "    'B006': 'Ausweichoption (negativ) oder Anzahl',\n",
    "    'B006_01': 'Raw data',\n",
    "    'B006_02': 'Processed data',\n",
    "    'B006_03': 'Analysed data',\n",
    "    'B006_04': 'Other data',\n",
    "    'B006_04a': 'open text',\n",
    "    'B006_05': 'All data',\n",
    "    'B006_06': 'I delete with caution data'\n",
    "}\n",
    "\n",
    "df_B006 = df_B006.rename(columns=col_name_clear_B006)\n",
    "\n",
    "# Anzahl der Werte 2 in den Spalten B005_01 - B006_06 zählen und in einen neuen df schreiben\n",
    "df_B006_count = df_B006.apply(lambda col: (col == 2).sum()).to_frame()\n",
    "\n",
    "# Spalten umbenennen\n",
    "df_B006_count.reset_index(inplace=True)\n",
    "df_B006_count.rename(columns={'index':'kind of archived data', 0:'quantity'}, inplace=True)\n",
    "\n",
    "# Index 0 löschen\n",
    "df_B006_count = df_B006_count.drop(0)\n",
    "\n",
    "df_B006_count"
   ]
  },
  {
   "cell_type": "code",
   "execution_count": null,
   "id": "33353ad3",
   "metadata": {},
   "outputs": [],
   "source": [
    "# Freitextantworten und Häufigkeit zur Frage anzeigen ->Spalte A006_04a und in einen neuen df schreiben\n",
    "df_B006_a = df_cleanquest_2023['B006_04a'].value_counts().to_frame()\n",
    "\n",
    "# Spalten umbenennen\n",
    "df_B006_a.reset_index(inplace=True)\n",
    "df_B006_a.rename(columns={'index': 'kind of archived data', 'B006_04a': 'quantity'}, inplace=True)\n",
    "\n",
    "df_B006_a"
   ]
  },
  {
   "cell_type": "code",
   "execution_count": null,
   "id": "eb24d006",
   "metadata": {},
   "outputs": [],
   "source": [
    "# Werte mit gleicher Bedeutung zusammenführen\n",
    "df_B006_a['kind of archived data'] = df_B006_a['kind of archived data'].apply(lambda x: 'Results' if 'last' in x.lower() or 'resu' in x.lower() or 'mass' in x.lower() else \n",
    "                                                               ('Lab Journal' if 'lab' in x.lower() else \n",
    "                                                                ('Metadata' if 'meta' in x.lower() or 'how' in x.lower() else x)))\n",
    "\n",
    "# Gruppieren der Bedeutungen und Summierung durchführen\n",
    "df_B006_grouped = df_B006_a.groupby('kind of archived data')['quantity'].sum().reset_index()\n",
    "\n",
    "# Ergebnisse nach Häufigkeit sortieren\n",
    "df_B006_sorted = df_B006_grouped.sort_values(by='quantity', ascending=False)\n",
    "\n",
    "print(df_B006_sorted)"
   ]
  },
  {
   "cell_type": "code",
   "execution_count": null,
   "id": "c4b28fe5",
   "metadata": {},
   "outputs": [],
   "source": [
    "# Dfs anhand des gemeinsamen Schlüssels 'kind of archived data' zusammenführen\n",
    "df_B006_merge = pd.merge(df_B006_count, df_B006_sorted, on='kind of archived data', how='outer')\n",
    "\n",
    "# Spalten quantity_x und quantity_y zusammenführen und Werte summieren\n",
    "df_B006_merge['merged_quantity'] = df_B006_merge[['quantity_x', 'quantity_y']].sum(axis=1)\n",
    "\n",
    "# ursprüngliche Spalten löschen\n",
    "df_B006_merge.drop(['quantity_x', 'quantity_y'], axis=1, inplace=True)\n",
    "\n",
    "# Ergebnisse nach Häufigkeit sortieren\n",
    "df_B006_msorted = df_B006_merge.sort_values(by='merged_quantity', ascending=False)\n",
    "\n",
    "df_B006_msorted"
   ]
  },
  {
   "cell_type": "code",
   "execution_count": null,
   "id": "d81e3ff1",
   "metadata": {},
   "outputs": [],
   "source": [
    "# Löschen der Zeilen mit Index 3 und 4, weil sie in den Freitextantworten aufgeschlüsselt wurde und als solche eingefügt wurden.\n",
    "rows_to_delete_B006 = [3,4]\n",
    "\n",
    "df_B006_msorted = df_B006_msorted.drop(rows_to_delete_B006)"
   ]
  },
  {
   "cell_type": "code",
   "execution_count": null,
   "id": "adbd092a",
   "metadata": {},
   "outputs": [],
   "source": [
    "# Spalte \"kind of archived data\" als Index setzen\n",
    "df_B006_msorted.set_index('kind of archived data', inplace=True)\n",
    "\n",
    "# Zeilen mit einer Quantity von über 80 filtern\n",
    "df_B006_merge_filter = df_B006_msorted[df_B006_msorted['merged_quantity'] > 80]\n",
    "\n",
    "# Balkendiagramm plotten\n",
    "df_B006_merge_filter.plot.barh(color=orange_rgb)\n",
    "plt.xlabel('Quantity')\n",
    "plt.ylabel('Kind of archived data')\n",
    "plt.title('Kind of archived data of the participants')\n",
    "\n",
    "plt.show()"
   ]
  },
  {
   "cell_type": "markdown",
   "id": "3a29c76d",
   "metadata": {},
   "source": [
    "## B11. Do you have in your institute/working group rules for how and where data needs to be archived?"
   ]
  },
  {
   "cell_type": "code",
   "execution_count": null,
   "id": "b59e6fd3",
   "metadata": {
    "scrolled": true
   },
   "outputs": [],
   "source": [
    "# Spalten mit Namen, die \"B004\" enthalten, anzeigen\n",
    "df_B007 = df_cleanquest_2023.filter(like='B007')\n",
    "df_B007"
   ]
  },
  {
   "cell_type": "code",
   "execution_count": null,
   "id": "a2e56828",
   "metadata": {
    "scrolled": true
   },
   "outputs": [],
   "source": [
    "# Leeres Dictionary für die Werte erstellen\n",
    "values_dict = {}\n",
    "\n",
    "# For-Schleife um Zeilen zu durchsuchen, bei denen die Spalte \"VAR\" den aktuellen Spaltennamen (column) enthält. \n",
    "# Ergebnis in values_dict speichern\n",
    "for col_name in df_B007:\n",
    "    values_dict[col_name] = df_values[df_values[\"VAR\"] == col_name]\n",
    "\n",
    "# Ergebnisse anzeigen\n",
    "for col_name, values_df in values_dict.items():\n",
    "    print(f\"Values for {col_name}:\")\n",
    "    print(values_df)\n",
    "    print()"
   ]
  },
  {
   "cell_type": "code",
   "execution_count": null,
   "id": "a9ea5143",
   "metadata": {},
   "outputs": [],
   "source": [
    "# Ergebnis in values_B007 speichern\n",
    "values_B007=df_values[df_values[\"VAR\"]==\"B007\"]\n",
    "\n",
    "# Zahlen in den Zellen gegen die Bedeutung ersetzen\n",
    "df_cleanquest_2023[\"B007-m\"]=df_cleanquest_2023[\"B007\"].map(values_B007.drop_duplicates(\"RESPONSE\").set_index(\"RESPONSE\")[\"MEANING\"])\n",
    "df_cleanquest_2023[\"B007-m\"]\n",
    "\n",
    "# Werte zählen und in einen neuen df schreiben\n",
    "df_B007_counted = df_B007['B007'].value_counts().to_frame()\n",
    "\n",
    "# Spalten umbenennen\n",
    "df_B007_counted.reset_index(inplace=True)\n",
    "df_B007_counted.rename(columns={'index': 'group rules', 'B004': 'quantity'}, inplace=True)\n",
    "\n",
    "df_B007_counted"
   ]
  },
  {
   "cell_type": "code",
   "execution_count": null,
   "id": "b94411ec",
   "metadata": {},
   "outputs": [],
   "source": [
    "# Spalte \"group rules\" als Index setzen\n",
    "df_B007_counted.set_index('group rules', inplace=True)\n",
    "\n",
    "# Säulendiagramm plotten\n",
    "df_B007_counted.plot.bar(color=orange_rgb)\n",
    "plt.xlabel('Group Rules')\n",
    "plt.ylabel('Quantity')\n",
    "plt.title('Rules for Archiving')\n",
    "\n",
    "plt.show()"
   ]
  },
  {
   "cell_type": "markdown",
   "id": "88d5eae2",
   "metadata": {},
   "source": [
    "## B12. Do you describe your collected data with other data (so-called metadata) to make these data later more comprehensible?"
   ]
  },
  {
   "cell_type": "code",
   "execution_count": null,
   "id": "2be6d801",
   "metadata": {},
   "outputs": [],
   "source": [
    "# Spalten mit Namen, die \"B008\" enthalten, anzeigen\n",
    "df_B008 = df_cleanquest_2023.filter(like='B008')\n",
    "df_B008"
   ]
  },
  {
   "cell_type": "code",
   "execution_count": null,
   "id": "8617a0eb",
   "metadata": {
    "scrolled": true
   },
   "outputs": [],
   "source": [
    "df_values = pd.DataFrame (values)\n",
    "\n",
    "# Leeres Dictionary für die Werte erstellen\n",
    "values_dict = {}\n",
    "\n",
    "# For-Schleife\n",
    "for col_name in df_B008:\n",
    "    values_dict[col_name] = df_values[df_values[\"VAR\"] == col_name]\n",
    "\n",
    "# Ergebnisse anzeigen\n",
    "for col_name, values_df in values_dict.items():\n",
    "    print(f\"Values for {col_name}:\")\n",
    "    print(values_df)\n",
    "    print()"
   ]
  },
  {
   "cell_type": "code",
   "execution_count": null,
   "id": "79e8cce7",
   "metadata": {
    "scrolled": true
   },
   "outputs": [],
   "source": [
    "# Zeilen von Index 50 bis 62 anzeigen\n",
    "selected_rows_B008 = df_variables.iloc[50:62]\n",
    "selected_rows_B008"
   ]
  },
  {
   "cell_type": "code",
   "execution_count": null,
   "id": "13c1008b",
   "metadata": {},
   "outputs": [],
   "source": [
    "# Spalten umbenennen, so dass Art der Daten bekannt wird\n",
    "# Dictionary erstellen\n",
    "col_name_clear_B008 = {\n",
    "    'B008_CN': 'Number of Selections',\n",
    "    'B008x01': 'Yes, I add',\n",
    "    'B008x02': 'Name of the researcher',\n",
    "    'B008x03': 'Number from lab notebook',\n",
    "    'B008x04': 'Sample description',\n",
    "    'B008x05': 'Project number',\n",
    "    'B008x06': 'Date of experiment',\n",
    "    'B008x07': 'Method of data collection',\n",
    "    'B008x08': 'Other',\n",
    "    'B008x09': 'No',\n",
    "    'B027_01': 'Comments'\n",
    "}\n",
    "\n",
    "# Werte im dictionary umbenennen\n",
    "df_B008 = df_B008.rename(columns=col_name_clear_B008)\n",
    "\n",
    "# Anzahl der Werte 2 in den Spalten B008x01 - B00x0908 zählen\n",
    "df_B008_count = df_B008.apply(lambda col: (col == 2).sum()).to_frame()\n",
    "\n",
    "# Spalten umbenennen\n",
    "df_B008_count.reset_index(inplace=True)\n",
    "df_B008_count.rename(columns={'index':'metadata', 0:'quantity'}, inplace=True)\n",
    "\n",
    "# Index 0 entfernen\n",
    "df_B008_count = df_B008_count.drop(0)\n",
    "\n",
    "df_B008_count"
   ]
  },
  {
   "cell_type": "code",
   "execution_count": null,
   "id": "39a8e61d",
   "metadata": {},
   "outputs": [],
   "source": [
    "# Indizes 1 und 9 auswählen\n",
    "selected_data_B008 = df_B008_count.loc[[1, 9]]\n",
    "\n",
    "# Balkendiagramm plotten\n",
    "plt.barh(selected_data_B008['metadata'], selected_data_B008['quantity'], color=petrol_rgb)\n",
    "plt.xlabel('Quantity')\n",
    "plt.ylabel('Add Metadata')\n",
    "plt.title('Metadata')\n",
    "\n",
    "plt.show()"
   ]
  },
  {
   "cell_type": "code",
   "execution_count": null,
   "id": "b4a372ea",
   "metadata": {
    "scrolled": true
   },
   "outputs": [],
   "source": [
    "# Freitextantworten und Häufigkeit zur Frage anzeigen ->Spalte B027_01 und in einen neuen df schreiben\n",
    "df_B008_a = df_cleanquest_2023['B027_01'].value_counts().to_frame()\n",
    "\n",
    "# Spalten umbenennen\n",
    "df_B008_a.reset_index(inplace=True)\n",
    "df_B008_a.rename(columns={'index': 'metadata', 'B027_01': 'quantity'}, inplace=True)\n",
    "\n",
    "df_B008_a"
   ]
  },
  {
   "cell_type": "code",
   "execution_count": null,
   "id": "1deafdaf",
   "metadata": {},
   "outputs": [],
   "source": [
    "# Werte mit gleicher Bedeutung zusammenführen\n",
    "df_B008_a['metadata'] = df_B008_a['metadata'].apply(lambda x: 'Parameters/Conditions' if 'param' in x.lower() or 'cond' in x.lower() or 'set' in x.lower() else \n",
    "                                                               ('Software' if 'soft' in x.lower() else\n",
    "                                                                ('Personal Identifier' if 'ide' in x.lower() or 'personal' in x.lower() or 'init' in x.lower() else\n",
    "                                                                 ('Files from Calculations/ Software' if 'sim' in x.lower() or 'calc' in x.lower() or 'code' in x.lower() else \n",
    "                                                                  ('Description' if 'descr' in x.lower() or 'text' in x.lower() or 'txt' in x.lower() else \n",
    "                                                                   ('Schema' if 'schem' in x.lower() else x))))))\n",
    "# Gruppieren der Bedeutungen und Summierung durchführen\n",
    "df_B008_grouped = df_B008_a.groupby('metadata')['quantity'].sum().reset_index()\n",
    "\n",
    "# Ergebnisse nach Häufigkeit sortieren\n",
    "df_B008_sorted = df_B008_grouped.sort_values(by='quantity', ascending=False)\n",
    "\n",
    "print(df_B008_sorted)"
   ]
  },
  {
   "cell_type": "code",
   "execution_count": null,
   "id": "43ae422b",
   "metadata": {
    "scrolled": true
   },
   "outputs": [],
   "source": [
    "# Dfs anhand des gemeinsamen Schlüssels 'metadata' zusammenführen\n",
    "df_B008_merge = pd.merge(df_B008_count, df_B008_sorted, on='metadata', how='outer')\n",
    "\n",
    "# Spalten quantity_x und quantity_y zusammenführen und Werte summieren\n",
    "df_B008_merge['merged_quantity'] = df_B008_merge[['quantity_x', 'quantity_y']].sum(axis=1)\n",
    "\n",
    "# ursprüngliche Spalten löschen\n",
    "df_B008_merge.drop(['quantity_x', 'quantity_y'], axis=1, inplace=True)\n",
    "\n",
    "# Ergebnisse nach Häufigkeit sortieren\n",
    "df_B008_msorted = df_B008_merge.sort_values(by='merged_quantity', ascending=False)\n",
    "df_B008_msorted"
   ]
  },
  {
   "cell_type": "code",
   "execution_count": null,
   "id": "3048a9fa",
   "metadata": {},
   "outputs": [],
   "source": [
    "# Indizes 1 bis 6 auswählen -> alle anderen Werte sind im Verhältnis so gering, dass sie in der Graphik vernachlässigt werden.\n",
    "df_B008_msorted = df_B008_msorted.loc[[5,3,1, 2,6,4]]\n",
    "\n",
    "# Diagramm erstellen\n",
    "plt.barh(df_B008_msorted['metadata'], df_B008_msorted['merged_quantity'], color=petrol_rgb)\n",
    "plt.xlabel('Quantity')\n",
    "plt.ylabel('Added Metadata')\n",
    "plt.title('Metadata')\n",
    "plt.show()"
   ]
  },
  {
   "cell_type": "markdown",
   "id": "9636d03d",
   "metadata": {},
   "source": [
    "### If yes:\n",
    "## B13. How do you generate or collect this metadata & additional information/parameters?"
   ]
  },
  {
   "cell_type": "code",
   "execution_count": null,
   "id": "91a9ad98",
   "metadata": {
    "scrolled": true
   },
   "outputs": [],
   "source": [
    "# Spalten mit Namen, die \"B008\" enthalten, anzeigen\n",
    "\n",
    "df_B009 = df_cleanquest_2023.filter(items=['B009', 'B026_01'])\n",
    "df_B009"
   ]
  },
  {
   "cell_type": "code",
   "execution_count": null,
   "id": "94254c91",
   "metadata": {
    "scrolled": true
   },
   "outputs": [],
   "source": [
    "# Df erstellen, der nur die Werte in der Spalte \"VAR\" gleich \"B009\"enthält\n",
    "values_B009=df_values[df_values[\"VAR\"]==\"B009\"]\n",
    "\n",
    "# Zahlen in den Zellen gegen die Bedeutung ersetzen\n",
    "df_cleanquest_2023[\"B009-m\"]=df_cleanquest_2023[\"B009\"].map(values_B009.drop_duplicates(\"RESPONSE\").set_index(\"RESPONSE\")[\"MEANING\"])\n",
    "df_cleanquest_2023[\"B009-m\"]\n",
    "\n",
    "# Werte zählen und in einen neuen df schreiben\n",
    "df_B009_counted = df_B009['B009'].value_counts().to_frame()\n",
    "\n",
    "# Spalten umbenennen\n",
    "df_B009_counted.reset_index(inplace=True)\n",
    "df_B009_counted.rename(columns={'index': 'metadata handling', 'B009': 'quantity'}, inplace=True)\n",
    "\n",
    "df_B009_counted"
   ]
  },
  {
   "cell_type": "code",
   "execution_count": null,
   "id": "08f2d383",
   "metadata": {
    "scrolled": false
   },
   "outputs": [],
   "source": [
    "# Spalte \"metadata handling\" als Index setzen\n",
    "df_B009_counted.set_index('metadata handling', inplace=True)\n",
    "\n",
    "# Balkendiagramm plotten\n",
    "df_B009_counted.plot.barh(color=orange_rgb)\n",
    "plt.xlabel('Quantity')\n",
    "plt.ylabel('Metadata Handling')\n",
    "plt.title('Metadata Handling of the participants')\n",
    "\n",
    "plt.show()"
   ]
  },
  {
   "cell_type": "code",
   "execution_count": null,
   "id": "c9b16154",
   "metadata": {
    "scrolled": true
   },
   "outputs": [],
   "source": [
    "# Freitextantworten anzeigen\n",
    "comments_B026 = df_B009['B026_01'].dropna()\n",
    "comments_B026"
   ]
  },
  {
   "cell_type": "markdown",
   "id": "a01f2707",
   "metadata": {},
   "source": [
    "## B14. Do you think your descriptive (meta)data helps other scientists to understand your data?"
   ]
  },
  {
   "cell_type": "code",
   "execution_count": null,
   "id": "f7066e87",
   "metadata": {},
   "outputs": [],
   "source": [
    "# Spalten mit Namen, die \"B008\" enthalten, anzeigen\n",
    "df_B010 = df_cleanquest_2023.filter(like='B010')\n",
    "df_B010"
   ]
  },
  {
   "cell_type": "code",
   "execution_count": null,
   "id": "448b5725",
   "metadata": {
    "scrolled": true
   },
   "outputs": [],
   "source": [
    "# Leeres Dictionary für die Werte erstellen\n",
    "values_dict = {}\n",
    "\n",
    "# For-Schleife um Zeilen zu durchsuchen, bei denen die Spalte \"VAR\" den aktuellen Spaltennamen (column) enthält. \n",
    "# Ergebnis in values_dict speichern\n",
    "for col_name in df_B010:\n",
    "    values_dict[col_name] = df_values[df_values[\"VAR\"] == col_name]\n",
    "\n",
    "# Ergebnisse anzeigen\n",
    "for col_name, values_df in values_dict.items():\n",
    "    print(f\"Values for {col_name}:\")\n",
    "    print(values_df)\n",
    "    print()"
   ]
  },
  {
   "cell_type": "code",
   "execution_count": null,
   "id": "495575c0",
   "metadata": {
    "scrolled": false
   },
   "outputs": [],
   "source": [
    "# Zahlen in den Zellen gegen die Bedeutung ersetzen\n",
    "df_cleanquest_2023[\"B010-m\"]=df_cleanquest_2023[\"B010\"].map(values_df.drop_duplicates(\"RESPONSE\").set_index(\"RESPONSE\")[\"MEANING\"])\n",
    "df_cleanquest_2023[\"B010-m\"]"
   ]
  },
  {
   "cell_type": "code",
   "execution_count": null,
   "id": "9c4b1c18",
   "metadata": {
    "scrolled": true
   },
   "outputs": [],
   "source": [
    "value_counts = df_cleanquest_2023['B010-m'].value_counts()\n",
    "print(value_counts)"
   ]
  },
  {
   "cell_type": "code",
   "execution_count": null,
   "id": "a058cff6",
   "metadata": {
    "scrolled": false
   },
   "outputs": [],
   "source": [
    "# Zeile \"nicht beantwortet\" aus df filtern\n",
    "df_B10_filter = df_cleanquest_2023[df_cleanquest_2023['B010-m'] != 'nicht beantwortet']\n",
    "\n",
    "# Balkendiagramm plotten\n",
    "df_B10_filter['B010-m'].value_counts().plot.barh(color=petrol_rgb)\n",
    "plt.xlabel('Quantity')\n",
    "plt.ylabel('Answers')\n",
    "plt.title('desciptive metadata for other researchers')\n",
    "\n",
    "plt.show()"
   ]
  },
  {
   "cell_type": "markdown",
   "id": "7fff3c45",
   "metadata": {},
   "source": [
    "## B15. Do you describe your data with additional information/parameters (metadata) following defined rules of your working group or institution?"
   ]
  },
  {
   "cell_type": "code",
   "execution_count": null,
   "id": "4a01e499",
   "metadata": {},
   "outputs": [],
   "source": [
    "# Spalten mit Namen, die \"B011\" enthalten, anzeigen\n",
    "df_B011 = df_cleanquest_2023.filter(like='B011')\n",
    "df_B011"
   ]
  },
  {
   "cell_type": "code",
   "execution_count": null,
   "id": "efadf336",
   "metadata": {
    "scrolled": true
   },
   "outputs": [],
   "source": [
    "# Leeres Dictionary für die Werte erstellen\n",
    "values_dict = {}\n",
    "\n",
    "# For-Schleife um Zeilen zu durchsuchen, bei denen die Spalte \"VAR\" den aktuellen Spaltennamen (column) enthält. \n",
    "# Ergebnis in values_dict speichern\n",
    "for col_name in df_B011:\n",
    "    values_dict[col_name] = df_values[df_values[\"VAR\"] == col_name]\n",
    "\n",
    "# Ergebnisse anzeigen\n",
    "for col_name, values_df in values_dict.items():\n",
    "    print(f\"Values for {col_name}:\")\n",
    "    print(values_df)\n",
    "    print()"
   ]
  },
  {
   "cell_type": "code",
   "execution_count": null,
   "id": "83886b9d",
   "metadata": {
    "scrolled": false
   },
   "outputs": [],
   "source": [
    "# Bedeutungen zuordnen und in neue Spalte B011-m schreiben\n",
    "df_cleanquest_2023[\"B011-m\"]=df_cleanquest_2023[\"B011\"].map(values_df.drop_duplicates(\"RESPONSE\").set_index(\"RESPONSE\")[\"MEANING\"])\n",
    "df_cleanquest_2023[\"B011-m\"]"
   ]
  },
  {
   "cell_type": "code",
   "execution_count": null,
   "id": "cce2a11f",
   "metadata": {
    "scrolled": true
   },
   "outputs": [],
   "source": [
    "# Werte zusammenzählen\n",
    "value_counts = df_cleanquest_2023['B011-m'].value_counts()\n",
    "print(value_counts)"
   ]
  },
  {
   "cell_type": "code",
   "execution_count": null,
   "id": "5316d353",
   "metadata": {
    "scrolled": false
   },
   "outputs": [],
   "source": [
    "# Zeile \"nicht beantwortet\" aus dem df filtern\n",
    "df_B11_filter = df_cleanquest_2023[df_cleanquest_2023['B011-m'] != 'nicht beantwortet']\n",
    "\n",
    "# Balkendiagramm plotten\n",
    "df_B11_filter['B011-m'].value_counts().plot.barh(color=petrol_rgb)\n",
    "plt.xlabel('Quantity')\n",
    "plt.ylabel('Answers')\n",
    "plt.title('descibing data following defined rules')\n",
    "\n",
    "plt.show()"
   ]
  },
  {
   "cell_type": "markdown",
   "id": "aefd7f73",
   "metadata": {},
   "source": [
    "## B16. Do you use an electronic lab notebook?"
   ]
  },
  {
   "cell_type": "code",
   "execution_count": null,
   "id": "8e3e1677",
   "metadata": {},
   "outputs": [],
   "source": [
    "# Spalten mit Namen, die \"B012\" enthalten, anzeigen\n",
    "df_B012 = df_cleanquest_2023.filter(like='B012')\n",
    "df_B012"
   ]
  },
  {
   "cell_type": "code",
   "execution_count": null,
   "id": "7c00c12f",
   "metadata": {
    "scrolled": true
   },
   "outputs": [],
   "source": [
    "# Leeres Dictionary für die Werte erstellen\n",
    "values_dict = {}\n",
    "\n",
    "# For-Schleife um Zeilen zu durchsuchen, bei denen die Spalte \"VAR\" den aktuellen Spaltennamen (column) enthält. \n",
    "# Ergebnis in values_dict speichern\n",
    "for col_name in df_B012:\n",
    "    values_dict[col_name] = df_values[df_values[\"VAR\"] == col_name]\n",
    "\n",
    "# Ergebnisse anzeigen\n",
    "for col_name, values_df in values_dict.items():\n",
    "    print(f\"Values for {col_name}:\")\n",
    "    print(values_df)\n",
    "    print()"
   ]
  },
  {
   "cell_type": "code",
   "execution_count": null,
   "id": "3bfb3576",
   "metadata": {
    "scrolled": false
   },
   "outputs": [],
   "source": [
    "# Bedeutungen zuordnen und in neue Spalte B012-m schreiben\n",
    "df_cleanquest_2023[\"B012-m\"]=df_cleanquest_2023[\"B012\"].map(values_df.drop_duplicates(\"RESPONSE\").set_index(\"RESPONSE\")[\"MEANING\"])\n",
    "value_counts = df_cleanquest_2023['B012-m'].value_counts()\n",
    "print(value_counts)"
   ]
  },
  {
   "cell_type": "code",
   "execution_count": null,
   "id": "519b28ad",
   "metadata": {
    "scrolled": false
   },
   "outputs": [],
   "source": [
    "# Zeile \"nicht beantwortet\" aus dem df filtern\n",
    "df_B12_filter = df_cleanquest_2023[df_cleanquest_2023['B012-m'] != 'nicht beantwortet']\n",
    "\n",
    "# Balkendiagramm plotten\n",
    "df_B12_filter['B012-m'].value_counts().plot.barh(color=petrol_rgb)\n",
    "plt.xlabel('Quantity')\n",
    "plt.ylabel('Answers')\n",
    "plt.title('Use of an electronic lab notebook')\n",
    "\n",
    "plt.show()"
   ]
  },
  {
   "cell_type": "markdown",
   "id": "729aeaba",
   "metadata": {},
   "source": [
    "### If yes: \n",
    "## B17. Which electronic lab notebook do you use?\n"
   ]
  },
  {
   "cell_type": "code",
   "execution_count": null,
   "id": "43cd922d",
   "metadata": {},
   "outputs": [],
   "source": [
    "# Spalten mit Namen, die \"B013\" enthalten, anzeigen\n",
    "df_B013 = df_cleanquest_2023.filter(like='B013')\n",
    "df_B013"
   ]
  },
  {
   "cell_type": "code",
   "execution_count": null,
   "id": "c5ce1b16",
   "metadata": {},
   "outputs": [],
   "source": [
    "# Werte mit gleicher Bedeutung zusammenführen und summieren\n",
    "df_B013['B013_01_mapped'] = df_B013['B013_01'].astype(str).apply(lambda x: 'Chemotion' if 'chemotion' in x.lower() else\n",
    "                                                            ('eLabFTW' if 'elabftw' in x.lower() or 'ftw' in x.lower() else\n",
    "                                                             ('Sciformation' if 'scifor' in x.lower() else\n",
    "                                                              ('MBook' if 'mbook' in x.lower() else\n",
    "                                                               ('Word' if 'word' in x.lower() or 'txt' in x.lower() else\n",
    "                                                                ('OneNote' if 'note' in x.lower() else\n",
    "                                                                 ('Signals Notebook' if 'signal' in x.lower() or 'perkin' in x.lower() else\n",
    "                                                                  ('LabCollector' if 'collect' in x.lower() else\n",
    "                                                                   ('LabFolder' if 'folder' in x.lower() else\n",
    "                                                                    ('LabStep' if 'step' in x.lower() else\n",
    "                                                                     ('RSpace' if 'rspace' in x.lower() else x)))))))))))\n",
    "\n",
    "# Gruppieren der Bedeutungen und Summierung durchführen\n",
    "df_B013['quantity'] = 1\n",
    "df_B013_grouped = df_B013.groupby('B013_01_mapped')['quantity'].sum().reset_index()\n",
    "\n",
    "# Ergebnisse nach Summe sortieren\n",
    "df_B013_sorted = df_B013_grouped.sort_values(by='quantity', ascending=False)\n",
    "\n",
    "print(df_B013_sorted)"
   ]
  },
  {
   "cell_type": "code",
   "execution_count": null,
   "id": "0f6475db",
   "metadata": {},
   "outputs": [],
   "source": [
    "# Index 57 löschen, da er die NaN-Werte enthält\n",
    "df_B013_sorted = df_B013_sorted.drop(57)\n",
    "\n",
    "# Spalte umbenennen\n",
    "df_B013_sorted.rename(columns={'B013_01_mapped': 'Lab notebook'}, inplace=True)\n",
    "\n",
    "df_B013_sorted"
   ]
  },
  {
   "cell_type": "code",
   "execution_count": null,
   "id": "7f01cbbc",
   "metadata": {},
   "outputs": [],
   "source": [
    "# Spalte \"lab notebook\" als Index setzen\n",
    "df_B013_sorted.set_index('Lab notebook', inplace=True)\n",
    "\n",
    "# Zeilen mit einer Quantity von über 4 filtern\n",
    "df_B013_sorted = df_B013_sorted[df_B013_sorted['quantity'] > 4]\n",
    "\n",
    "# Balkendiagramm plotten\n",
    "df_B013_sorted.plot.barh(color=orange_rgb)\n",
    "plt.xlabel('Quantity')\n",
    "plt.ylabel('Electronic Lab Notebooks')\n",
    "plt.title('Use of different Electronic Lab Notebooks of the participants')\n",
    "\n",
    "plt.show()"
   ]
  },
  {
   "cell_type": "markdown",
   "id": "9d25e305",
   "metadata": {},
   "source": [
    "## B18. How do you store data in the long term (~10 years) after the end of a project?\n",
    "### Multiple selections possible."
   ]
  },
  {
   "cell_type": "code",
   "execution_count": null,
   "id": "1c5f7d6b",
   "metadata": {},
   "outputs": [],
   "source": [
    "# Spalten mit Namen, die \"B014\" enthalten, anzeigen\n",
    "df_B014 = df_cleanquest_2023.filter(like='B014')\n",
    "df_B014"
   ]
  },
  {
   "cell_type": "code",
   "execution_count": null,
   "id": "9c3bd2a9",
   "metadata": {},
   "outputs": [],
   "source": [
    "# Leeres Dictionary für die Werte erstellen\n",
    "values_dict = {}\n",
    "\n",
    "# For-Schleife um Zeilen zu durchsuchen, bei denen die Spalte \"VAR\" den aktuellen Spaltennamen (column) enthält. \n",
    "# Ergebnis in values_dict speichern\n",
    "for col_name in df_B014:\n",
    "    values_dict[col_name] = df_values[df_values[\"VAR\"] == col_name]\n",
    "\n",
    "# Ergebnisse anzeigen\n",
    "for col_name, values_df in values_dict.items():\n",
    "    print(f\"Values for {col_name}:\")\n",
    "    print(values_df)\n",
    "    print()"
   ]
  },
  {
   "cell_type": "code",
   "execution_count": null,
   "id": "ea266c70",
   "metadata": {
    "scrolled": true
   },
   "outputs": [],
   "source": [
    "# Zeilen von Index 68 bis 77 anzeigen\n",
    "selected_rows_B014 = df_variables.iloc[68:78]\n",
    "selected_rows_B014"
   ]
  },
  {
   "cell_type": "code",
   "execution_count": null,
   "id": "c660e361",
   "metadata": {},
   "outputs": [],
   "source": [
    "# Spalten umbenennen, so dass Teildisziplin bekannt wird\n",
    "# Dictionary erstellen\n",
    "col_name_clear_B014 = {\n",
    "    'B014': 'Ausweichoption (negativ) oder Anzahl',\n",
    "    'B014_01': 'Local workspace',\n",
    "    'B014_02': 'Server of working group/institute',\n",
    "    'B014_03': 'University server/ server at university IT center',\n",
    "    'B014_04': 'External hard drive',\n",
    "    'B014_05': 'USB stick, DVD, CD',\n",
    "    'B014_06': 'Cloud system',\n",
    "    'B014_07': 'Data repository',\n",
    "    'B014_08': 'other data',\n",
    "    'B014_08a': 'open text'\n",
    "}\n",
    "\n",
    "# Im Dictionary Spaltennamen gegen Bedeutungen ersetzen\n",
    "df_B014 = df_B014.rename(columns=col_name_clear_B014)\n",
    "\n",
    "# Anzahl der Vorkommen von 2 in den Spalten B014_01 - B014_08 zählen und Liste in einen df schreiben\n",
    "df_B014_count = df_B014.apply(lambda col: (col == 2).sum()).to_frame()\n",
    "\n",
    "#Spalten umbenennen\n",
    "df_B014_count.reset_index(inplace=True)\n",
    "df_B014_count.rename(columns={'index':'kind of media', 0:'quantity'}, inplace=True)\n",
    "\n",
    "# Index 0 löschen\n",
    "df_B014_count = df_B014_count.drop(0)\n",
    "\n",
    "df_B014_count"
   ]
  },
  {
   "cell_type": "code",
   "execution_count": null,
   "id": "131d7610",
   "metadata": {},
   "outputs": [],
   "source": [
    "# Freitextantworten und Häufigkeit zur Frage auswerten ->Spalte B014_08a und in einen neuen df schreiben\n",
    "df_B014_a = df_cleanquest_2023['B014_08a'].value_counts().to_frame()\n",
    "\n",
    "# Spaltennamen umbenennen\n",
    "df_B014_a.reset_index(inplace=True)\n",
    "df_B014_a.rename(columns={'index': 'kind of media', 'B014_08a': 'quantity'}, inplace=True)\n",
    "\n",
    "df_B014_a"
   ]
  },
  {
   "cell_type": "code",
   "execution_count": null,
   "id": "25cf3441",
   "metadata": {},
   "outputs": [],
   "source": [
    "# Werte mit gleicher Bedeutung zusammenführen\n",
    "df_B014_a['kind of media'] = df_B014_a['kind of media'].apply(lambda x: 'Lab Journal/Book' if 'lab' in x.lower() else\n",
    "                                                              ('Supporting Information' if 'publish' in x.lower() else\n",
    "                                                               ('Cloud system' if 'sciebo' in x.lower() or 'cloud' in x.lower () else\n",
    "                                                                ('Tape' if 'tape' in x.lower() or 'magnet' in x.lower () else x))))\n",
    "\n",
    "\n",
    "# Gruppieren der Bedeutungen und Summierung durchführen\n",
    "df_B014_grouped = df_B014_a.groupby('kind of media')['quantity'].sum().reset_index()\n",
    "\n",
    "# Ergebnisse nach Häufigkeit sortieren\n",
    "df_B014_sorted = df_B014_grouped.sort_values(by='quantity', ascending=False)\n",
    "\n",
    "df_B014_sorted"
   ]
  },
  {
   "cell_type": "code",
   "execution_count": null,
   "id": "752882ae",
   "metadata": {},
   "outputs": [],
   "source": [
    "# Dfs anhand des gemeinsamen Schlüssels 'kind of media' zusammenführen\n",
    "df_B014_merge = pd.merge(df_B014_count, df_B014_sorted, on='kind of media', how='outer')\n",
    "\n",
    "# Spalten quantity_x und quantity_y zusammenführen und Werte summieren\n",
    "df_B014_merge['merged_quantity'] = df_B014_merge[['quantity_x', 'quantity_y']].sum(axis=1)\n",
    "\n",
    "# ursprüngliche Spalten löschen\n",
    "df_B014_merge.drop(['quantity_x', 'quantity_y'], axis=1, inplace=True)\n",
    "\n",
    "df_B014_merge"
   ]
  },
  {
   "cell_type": "code",
   "execution_count": null,
   "id": "2869dda5",
   "metadata": {},
   "outputs": [],
   "source": [
    "# Löschen der Zeilen mit Index 7 und 8, weil sie in den Freitextantworten aufgeschlüsselt wurde und als solche eingefügt wurden.\n",
    "rows_to_delete_B014 = [7,8]\n",
    "df_B014_merge = df_B014_merge.drop(rows_to_delete_B014)\n",
    "\n",
    "# Ergebnisse nach Häufigkeit sortieren\n",
    "df_B014_msorted = df_B014_merge.sort_values(by='merged_quantity', ascending=False)\n",
    "\n",
    "df_B014_msorted"
   ]
  },
  {
   "cell_type": "code",
   "execution_count": null,
   "id": "cafc7d3c",
   "metadata": {},
   "outputs": [],
   "source": [
    "# Spalte \"kind of media\" als Index setzen\n",
    "df_B014_msorted.set_index('kind of media', inplace=True)\n",
    "\n",
    "# Zeilen mit einer Quantity von über 14 filtern\n",
    "df_B014_filtered = df_B014_msorted[df_B014_msorted['merged_quantity'] > 10]\n",
    "\n",
    "# Balkendiagramm plotten\n",
    "df_B014_filtered.plot.barh(color=petrol_rgb)\n",
    "plt.xlabel('Quantity')\n",
    "plt.ylabel('Kind of media')\n",
    "plt.title('Kind of media the participants use')\n",
    "\n",
    "plt.show()"
   ]
  },
  {
   "cell_type": "markdown",
   "id": "f5359815",
   "metadata": {},
   "source": [
    "## B19. How do you share your data within your working group?\n",
    "### Multiple selections possible."
   ]
  },
  {
   "cell_type": "code",
   "execution_count": null,
   "id": "a38306f6",
   "metadata": {},
   "outputs": [],
   "source": [
    "# Spalten mit Namen, die \"B015\" enthalten, anzeigen\n",
    "df_B015 = df_cleanquest_2023.filter(like='B015')\n",
    "df_B015"
   ]
  },
  {
   "cell_type": "code",
   "execution_count": null,
   "id": "cd9c1413",
   "metadata": {},
   "outputs": [],
   "source": [
    "# Leeres Dictionary für die Werte erstellen\n",
    "values_dict = {}\n",
    "\n",
    "# For-Schleife um Zeilen zu durchsuchen, bei denen die Spalte \"VAR\" den aktuellen Spaltennamen (column) enthält. \n",
    "# Ergebnis in values_dict speichern\n",
    "for col_name in df_B015:\n",
    "    values_dict[col_name] = df_values[df_values[\"VAR\"] == col_name]\n",
    "\n",
    "# Ergebnisse anzeigen\n",
    "for col_name, values_df in values_dict.items():\n",
    "    print(f\"Values for {col_name}:\")\n",
    "    print(values_df)\n",
    "    print()"
   ]
  },
  {
   "cell_type": "code",
   "execution_count": null,
   "id": "409c5e5c",
   "metadata": {
    "scrolled": true
   },
   "outputs": [],
   "source": [
    "# Zeilen von Index 78 bis 87 anzeigen\n",
    "selected_rows_B015 = df_variables.iloc[78:88]\n",
    "selected_rows_B015"
   ]
  },
  {
   "cell_type": "code",
   "execution_count": null,
   "id": "066b6730",
   "metadata": {},
   "outputs": [],
   "source": [
    "# Spalten umbenennen, so dass Teildisziplin bekannt wird\n",
    "# Dictionary erstellen\n",
    "col_name_clear_B015 = {\n",
    "    'B015': 'Ausweichoption (negativ) oder Anzahl',\n",
    "    'B015_01': 'Electronic lab journal',\n",
    "    'B015_02': 'Via server of institute/working group',\n",
    "    'B015_03': 'Cloud system',\n",
    "    'B015_04': 'E-Mail',\n",
    "    'B015_05': 'USB stick, DVD, CD',\n",
    "    'B015_06': 'Data repository',\n",
    "    'B015_07': ' I do not share my data.',\n",
    "    'B015_08': 'other data',\n",
    "    'B015_08a': 'open text'\n",
    "}\n",
    "\n",
    "# Spaltennamen in Dictionary gegen Bedeutung ersetzen\n",
    "df_B015 = df_B015.rename(columns=col_name_clear_B015)\n",
    "\n",
    "# Anzahl der Vorkommen von 2 in den Spalten B015_01 - B015_08 zählen und in einen df schreiben\n",
    "df_B015_count = df_B015.apply(lambda col: (col == 2).sum()).to_frame()\n",
    "\n",
    "# Spalten umbenennen\n",
    "df_B015_count.reset_index(inplace=True)\n",
    "df_B015_count.rename(columns={'index':'kind of media', 0:'quantity'}, inplace=True)\n",
    "\n",
    "# Index 0 löschen\n",
    "df_B015_count = df_B015_count.drop(0)\n",
    "\n",
    "df_B015_count"
   ]
  },
  {
   "cell_type": "code",
   "execution_count": null,
   "id": "1e04026c",
   "metadata": {},
   "outputs": [],
   "source": [
    "# Freitextantworten und Häufigkeit zur Frage auswerten ->Spalte B015_8a und in neuen df schreiben\n",
    "df_B015_a = df_cleanquest_2023['B015_08a'].value_counts().to_frame()\n",
    "\n",
    "# Spalten umbenennen\n",
    "df_B015_a.reset_index(inplace=True)\n",
    "df_B015_a.rename(columns={'index': 'kind of media', 'B015_08a': 'quantity'}, inplace=True)\n",
    "\n",
    "df_B015_a"
   ]
  },
  {
   "cell_type": "code",
   "execution_count": null,
   "id": "e13600f9",
   "metadata": {},
   "outputs": [],
   "source": [
    "# Werte mit gleicher Bedeutung zusammenführen\n",
    "df_B015_a['kind of media'] = df_B015_a['kind of media'].apply(lambda x: 'Lab Journal/Book' if 'lab' in x.lower() else\n",
    "                                                              ('Supporting Information' if 'publish' in x.lower() else\n",
    "                                                               ('Cloud system' if 'sciebo' in x.lower() or 'cloud' in x.lower () else\n",
    "                                                                ('Tape' if 'tape' in x.lower() or 'magnet' in x.lower () else x))))\n",
    "\n",
    "# Gruppieren der Bedeutungen und Summierung durchführen\n",
    "df_B015_grouped = df_B015_a.groupby('kind of media')['quantity'].sum().reset_index()\n",
    "\n",
    "# Ergebnisse nach Häufigkeit sortieren\n",
    "df_B015_sorted = df_B015_grouped.sort_values(by='quantity', ascending=False)\n",
    "\n",
    "df_B015_sorted"
   ]
  },
  {
   "cell_type": "code",
   "execution_count": null,
   "id": "f83441ef",
   "metadata": {
    "scrolled": true
   },
   "outputs": [],
   "source": [
    "# Dfs anhand des gemeinsamen Schlüssels 'kind of media' zusammenführen\n",
    "df_B015_merge = pd.merge(df_B015_count, df_B015_sorted, on='kind of media', how='outer')\n",
    "\n",
    "# Spalten quantity_x und quantity_y zusammenführen und Werte summieren\n",
    "df_B015_merge['merged_quantity'] = df_B015_merge[['quantity_x', 'quantity_y']].sum(axis=1)\n",
    "\n",
    "# ursprüngliche Spalten löschen\n",
    "df_B015_merge.drop(['quantity_x', 'quantity_y'], axis=1, inplace=True)\n",
    "\n",
    "df_B015_merge"
   ]
  },
  {
   "cell_type": "code",
   "execution_count": null,
   "id": "f990c83a",
   "metadata": {
    "scrolled": true
   },
   "outputs": [],
   "source": [
    "# Zeilen mit Index 6 und 7 löschen, weil sie in den Freitextantworten aufgeschlüsselt wurde und als solche eingefügt wurden.\n",
    "rows_to_delete_B015 = [6,7]\n",
    "df_B015_merge = df_B015_merge.drop(rows_to_delete_B015)\n",
    "\n",
    "# Ergebnisse nach Häufigkeit sortieren\n",
    "df_B015_msorted = df_B015_merge.sort_values(by='merged_quantity', ascending=False)\n",
    "\n",
    "df_B015_msorted"
   ]
  },
  {
   "cell_type": "code",
   "execution_count": null,
   "id": "205c2cd2",
   "metadata": {},
   "outputs": [],
   "source": [
    "# Größe des Diagramms anpassen\n",
    "fig, ax = plt.subplots(figsize=(10, 6))\n",
    "\n",
    "# Spalte \"kind of media\" als Index setzen\n",
    "df_B015_msorted.set_index('kind of media', inplace=True)\n",
    "\n",
    "# Zeilen mit einer Quantity von über 10 filtern\n",
    "df_B015_filtered = df_B015_msorted[df_B015_msorted['merged_quantity'] > 10]\n",
    "\n",
    "# Balkendiagramm mit absoluten Werten im Balken plotten\n",
    "bars = df_B015_filtered.plot.barh(ax=ax, color=petrol_rgb)\n",
    "\n",
    "# absolute Werte in die Balken einfügen\n",
    "for bar in bars.patches:\n",
    "    ax.text(bar.get_width(), bar.get_y() + bar.get_height() / 2, int(bar.get_width()),\n",
    "            va='center', ha='right', color='white')\n",
    "     \n",
    "plt.xlabel('Quantity')\n",
    "plt.ylabel('Kind of media')\n",
    "plt.title('Kind of media the participants share data')\n",
    "\n",
    "plt.show()"
   ]
  },
  {
   "cell_type": "markdown",
   "id": "232eaa93",
   "metadata": {},
   "source": [
    "## B20. How do you share your data outside your working group?\n",
    "### Multiple selections possible."
   ]
  },
  {
   "cell_type": "code",
   "execution_count": null,
   "id": "0779bbd5",
   "metadata": {},
   "outputs": [],
   "source": [
    "# Spalten mit Namen, die \"B016\" enthalten, anzeigen\n",
    "df_B016 = df_cleanquest_2023.filter(like='B016')\n",
    "df_B016"
   ]
  },
  {
   "cell_type": "code",
   "execution_count": null,
   "id": "ed488ca3",
   "metadata": {
    "scrolled": true
   },
   "outputs": [],
   "source": [
    "# Leeres Dictionary für die Werte erstellen\n",
    "values_dict = {}\n",
    "\n",
    "# For-Schleife um Zeilen zu durchsuchen, bei denen die Spalte \"VAR\" den aktuellen Spaltennamen (column) enthält. \n",
    "# Ergebnis in values_dict speichern\n",
    "for col_name in df_B016:\n",
    "    values_dict[col_name] = df_values[df_values[\"VAR\"] == col_name]\n",
    "\n",
    "# Ergebnisse anzeigen\n",
    "for col_name, values_df in values_dict.items():\n",
    "    print(f\"Values for {col_name}:\")\n",
    "    print(values_df)\n",
    "    print()"
   ]
  },
  {
   "cell_type": "code",
   "execution_count": null,
   "id": "23d8e5fd",
   "metadata": {
    "scrolled": true
   },
   "outputs": [],
   "source": [
    "# Zeilen von Index 88 bis 98 anzeigen\n",
    "selected_rows_B016 = df_variables.iloc[88:99]\n",
    "selected_rows_B016"
   ]
  },
  {
   "cell_type": "code",
   "execution_count": null,
   "id": "f397a84a",
   "metadata": {
    "scrolled": true
   },
   "outputs": [],
   "source": [
    "# Spalten umbenennen, so dass Teildisziplin bekannt wird\n",
    "# Dictionary erstellen\n",
    "col_name_clear_B016 = {\n",
    "    'B016': 'Ausweichoption (negativ) oder Anzahl',\n",
    "    'B016_01': 'Electronic lab journal',\n",
    "    'B016_02': 'Via server of institute/working group',\n",
    "    'B016_03': 'Cloud system',\n",
    "    'B016_04': 'E-Mail',\n",
    "    'B016_05': 'USB stick, DVD, CD',\n",
    "    'B016_06': 'Data repository',\n",
    "    'B016_07': 'Publication as data publication or Supplementary Information.',\n",
    "    'B016_08': 'I do not share my data.',\n",
    "    'B016_09': 'other data',\n",
    "    'B016_09a': 'open text'\n",
    "}\n",
    "\n",
    "# Variable gegen Bedeutung ersetzen\n",
    "df_B016 = df_B016.rename(columns=col_name_clear_B016)\n",
    "\n",
    "# Anzahl der Vorkommen von 2 in den Spalten B016_01 - B016_09 zählen und Liste in einen df schreiben\n",
    "df_B016_count = df_B016.apply(lambda col: (col == 2).sum()).to_frame()\n",
    "\n",
    "# Spalten umbenennen\n",
    "df_B016_count.reset_index(inplace=True)\n",
    "df_B016_count.rename(columns={'index':'kind of media', 0:'quantity'}, inplace=True)\n",
    "\n",
    "# Index 0 löschen\n",
    "df_B016_count = df_B016_count.drop(0)\n",
    "\n",
    "df_B016_count"
   ]
  },
  {
   "cell_type": "code",
   "execution_count": null,
   "id": "1a8e4387",
   "metadata": {
    "scrolled": true
   },
   "outputs": [],
   "source": [
    "# Freitextantworten und Häufigkeit zur Frage anzeigen ->Spalte B016_09a und in neuen df schreiben\n",
    "df_B016_a = df_cleanquest_2023['B016_09a'].value_counts().to_frame()\n",
    "\n",
    "# Spalten umbenennen\n",
    "df_B016_a.reset_index(inplace=True)\n",
    "df_B016_a.rename(columns={'index': 'kind of media', 'B016_09a': 'quantity'}, inplace=True)\n",
    "\n",
    "df_B016_a"
   ]
  },
  {
   "cell_type": "code",
   "execution_count": null,
   "id": "43a8b1ac",
   "metadata": {
    "scrolled": false
   },
   "outputs": [],
   "source": [
    "# Werte mit gleicher Bedeutung zusammenführen\n",
    "df_B016_a['kind of media'] = df_B016_a['kind of media'].apply(lambda x: 'Cryptshare' if 'cryp' in x.lower() else\n",
    "                                                              ('I do not share my data.' if 'share' in x.lower() else\n",
    "                                                               ('Cloud system' if 'sciebo' in x.lower() or 'hessen' in x.lower () else\n",
    "                                                                ('Publication as data publication or Supplementary Information.' if 'public' in x.lower() else x))))\n",
    "\n",
    "# Gruppieren der Bedeutungen und Summierung durchführen\n",
    "df_B016_grouped = df_B016_a.groupby('kind of media')['quantity'].sum().reset_index()\n",
    "\n",
    "# Ergebnisse nach Häufigkeit sortieren\n",
    "df_B016_sorted = df_B016_grouped.sort_values(by='quantity', ascending=False)\n",
    "\n",
    "df_B016_sorted"
   ]
  },
  {
   "cell_type": "code",
   "execution_count": null,
   "id": "2fcad62c",
   "metadata": {
    "scrolled": true
   },
   "outputs": [],
   "source": [
    "# Dfs anhand des gemeinsamen Schlüssels 'kind of media' zusammenführen\n",
    "df_B016_merge = pd.merge(df_B016_count, df_B016_sorted, on='kind of media', how='outer')\n",
    "\n",
    "# Spalten quantity_x und quantity_y zusammenführen und Werte summieren\n",
    "df_B016_merge['merged_quantity'] = df_B016_merge[['quantity_x', 'quantity_y']].sum(axis=1)\n",
    "\n",
    "# ursprüngliche Spalten löschen\n",
    "df_B016_merge.drop(['quantity_x', 'quantity_y'], axis=1, inplace=True)\n",
    "\n",
    "df_B016_merge"
   ]
  },
  {
   "cell_type": "code",
   "execution_count": null,
   "id": "1b4f1cb5",
   "metadata": {
    "scrolled": true
   },
   "outputs": [],
   "source": [
    "# Zeilen mit Index 7 und 8 löschen, weil sie in den Freitextantworten aufgeschlüsselt wurde und als solche eingefügt wurden.\n",
    "rows_to_delete_B016 = [7,8]\n",
    "df_B016_merge = df_B016_merge.drop(rows_to_delete_B016)\n",
    "\n",
    "# Ergebnisse nach Häufigkeit sortieren\n",
    "df_B016_msorted = df_B016_merge.sort_values(by='merged_quantity', ascending=False)\n",
    "\n",
    "df_B016_msorted"
   ]
  },
  {
   "cell_type": "code",
   "execution_count": null,
   "id": "dad94d30",
   "metadata": {},
   "outputs": [],
   "source": [
    "# Spalte \"kind of media\" als Index setzen\n",
    "df_B016_msorted.set_index('kind of media', inplace=True)\n",
    "\n",
    "# Zeilen mit einer Quantity von über 60 filtern\n",
    "df_B016_filtered = df_B016_msorted[df_B016_msorted['merged_quantity'] > 60]\n",
    "\n",
    "# Balkendiagramm plotten\n",
    "df_B016_filtered.plot.barh(color=petrol_rgb)\n",
    "plt.xlabel('Quantity')\n",
    "plt.ylabel('Kind of media')\n",
    "plt.title('Kind of media the participants use for sharing data outside')\n",
    "\n",
    "plt.show()"
   ]
  },
  {
   "cell_type": "markdown",
   "id": "c5f0cfff",
   "metadata": {},
   "source": [
    "## B21. Have you already published your data in the form of raw data, processed data or analysed data?\n",
    "### Multiple selections possible."
   ]
  },
  {
   "cell_type": "code",
   "execution_count": null,
   "id": "586ef57f",
   "metadata": {},
   "outputs": [],
   "source": [
    "# Spalten mit Namen, die \"B017\" enthalten, anzeigen\n",
    "df_B017 = df_cleanquest_2023.filter(like='B017')\n",
    "df_B017"
   ]
  },
  {
   "cell_type": "code",
   "execution_count": null,
   "id": "ab638965",
   "metadata": {},
   "outputs": [],
   "source": [
    "# Leeres Dictionary für die Werte erstellen\n",
    "values_dict = {}\n",
    "\n",
    "# For-Schleife um Zeilen zu durchsuchen, bei denen die Spalte \"VAR\" den aktuellen Spaltennamen (column) enthält. \n",
    "# Ergebnis in values_dict speichern\n",
    "for col_name in df_B017:\n",
    "    values_dict[col_name] = df_values[df_values[\"VAR\"] == col_name]\n",
    "\n",
    "# Ergebnisse anzeigen\n",
    "for col_name, values_df in values_dict.items():\n",
    "    print(f\"Values for {col_name}:\")\n",
    "    print(values_df)\n",
    "    print()"
   ]
  },
  {
   "cell_type": "code",
   "execution_count": null,
   "id": "8ca21fc8",
   "metadata": {
    "scrolled": true
   },
   "outputs": [],
   "source": [
    "# Zeilen von Index 68 bis 78 anzeigen\n",
    "selected_rows_B017 = df_variables.iloc[99:106]\n",
    "selected_rows_B017"
   ]
  },
  {
   "cell_type": "code",
   "execution_count": null,
   "id": "18348a58",
   "metadata": {},
   "outputs": [],
   "source": [
    "# Spalten umbenennen, so dass Teildisziplin bekannt wird\n",
    "# Dictionary erstellen\n",
    "col_name_clear_B017 = {\n",
    "    'B017': 'Ausweichoption (negativ) oder Anzahl',\n",
    "    'B017_01': 'Yes, as part of a text publication in the form of supplemental material.',\n",
    "    'B017_02': 'Yes, as part of a text publication in a data repository.',\n",
    "    'B017_03': 'Yes, as pure data publication in a data repository independent on a text publication.',\n",
    "    'B017_04': 'No, I have not yet published any data.',\n",
    "    'B017_05': 'Other',\n",
    "    'B017_05a': 'Open Text'\n",
    "}\n",
    "\n",
    "# Variable gegen Bedeutung ersetzen\n",
    "df_B017 = df_B017.rename(columns=col_name_clear_B017)\n",
    "\n",
    "# Anzahl der Vorkommen von 2 in den Spalten B017_01 - B017_05 zählen und in einen df schreiben\n",
    "df_B017_count = df_B017.apply(lambda col: (col == 2).sum()).to_frame()\n",
    "\n",
    "# Spalten umbenennen\n",
    "df_B017_count.reset_index(inplace=True)\n",
    "df_B017_count.rename(columns={'index':'kind of publication', 0:'quantity'}, inplace=True)\n",
    "\n",
    "# Index 0 löschen\n",
    "df_B017_count = df_B017_count.drop(0)\n",
    "\n",
    "df_B017_count"
   ]
  },
  {
   "cell_type": "code",
   "execution_count": null,
   "id": "66e49025",
   "metadata": {},
   "outputs": [],
   "source": [
    "# Freitextantworten und Häufigkeit zur Frage anzeigen ->Spalte B017_05a\n",
    "df_B017_a = df_cleanquest_2023['B017_05a'].value_counts().to_frame()\n",
    "\n",
    "# Spalten umbenennen\n",
    "df_B017_a.reset_index(inplace=True)\n",
    "df_B017_a.rename(columns={'index': 'kind of publication', 'B017_05a': 'quantity'}, inplace=True)\n",
    "\n",
    "df_B017_a"
   ]
  },
  {
   "cell_type": "code",
   "execution_count": null,
   "id": "15e3a723",
   "metadata": {},
   "outputs": [],
   "source": [
    "# Dfs anhand des gemeinsamen Schlüssels 'kind of publication' zusammenführen\n",
    "df_B017_merge = pd.merge(df_B017_count, df_B017_a, on='kind of publication', how='outer')\n",
    "\n",
    "# Spalten quantity_x und quantity_y zusammenführen und Werte summieren\n",
    "df_B017_merge['merged_quantity'] = df_B017_merge[['quantity_x', 'quantity_y']].sum(axis=1)\n",
    "\n",
    "# ursprüngliche Spalten löschen\n",
    "df_B017_merge.drop(['quantity_x', 'quantity_y'], axis=1, inplace=True)\n",
    "\n",
    "df_B017_merge"
   ]
  },
  {
   "cell_type": "code",
   "execution_count": null,
   "id": "799dd9c4",
   "metadata": {},
   "outputs": [],
   "source": [
    "# Zeilen mit Index 4 und 5 löschen, weil sie in den Freitextantworten aufgeschlüsselt wurde und als solche eingefügt wurden.\n",
    "rows_to_delete_B017 = [4,5]\n",
    "df_B017_merge = df_B017_merge.drop(rows_to_delete_B017)\n",
    "\n",
    "# Ergebnisse nach Häufigkeit sortieren\n",
    "df_B017_msorted = df_B015_merge.sort_values(by='merged_quantity', ascending=False)\n",
    "\n",
    "df_B017_msorted"
   ]
  },
  {
   "cell_type": "code",
   "execution_count": null,
   "id": "d8d35ec4",
   "metadata": {},
   "outputs": [],
   "source": [
    "# Spalte \"kind of media\" als Index setzen\n",
    "df_B017_msorted.set_index('kind of media', inplace=True)\n",
    "\n",
    "# Zeilen mit einer Quantity von über 50 setzen\n",
    "df_B017_filtered = df_B017_msorted[df_B017_msorted['merged_quantity'] > 50]\n",
    "\n",
    "# Balkendiagramm plotten\n",
    "df_B017_filtered.plot.barh(color=petrol_rgb)\n",
    "plt.xlabel('Quantity')\n",
    "plt.ylabel('Kind of media')\n",
    "plt.title('Kind of media the participants use')\n",
    "\n",
    "# Zeige das Diagramm an\n",
    "plt.show()"
   ]
  },
  {
   "cell_type": "markdown",
   "id": "88aa887c",
   "metadata": {},
   "source": [
    "### If no:\n",
    "## B22. Do you know of online databases or data repositories where you can find data for your domain?\n"
   ]
  },
  {
   "cell_type": "code",
   "execution_count": null,
   "id": "d077eef7",
   "metadata": {
    "scrolled": true
   },
   "outputs": [],
   "source": [
    "# Spalten mit Namen, die \"B018\" enthalten, anzeigen\n",
    "df_B018 = df_cleanquest_2023.filter(like='B018')\n",
    "df_B018"
   ]
  },
  {
   "cell_type": "code",
   "execution_count": null,
   "id": "2835277c",
   "metadata": {},
   "outputs": [],
   "source": [
    "# Leeres Dictionary für die Werte erstellen\n",
    "values_dict = {}\n",
    "\n",
    "# For-Schleife um Zeilen zu durchsuchen, bei denen die Spalte \"VAR\" den aktuellen Spaltennamen (column) enthält. \n",
    "# Ergebnis in values_dict speichern\n",
    "for col_name in df_B018:\n",
    "    values_dict[col_name] = df_values[df_values[\"VAR\"] == col_name]\n",
    "\n",
    "# Ergebnisse anzeigen\n",
    "for col_name, values_df in values_dict.items():\n",
    "    print(f\"Values for {col_name}:\")\n",
    "    print(values_df)\n",
    "    print()"
   ]
  },
  {
   "cell_type": "code",
   "execution_count": null,
   "id": "92f9183a",
   "metadata": {},
   "outputs": [],
   "source": [
    "# Zahlen gegen Bedeutungen ersetzen\n",
    "df_B018.loc[:, 'B018'].replace({1: 'Yes', 2: 'No', -9: 'No answer'}, inplace=True)\n",
    "\n",
    "# Zellen mit gleichem Inhalt zählen und neuen df erzeugen\n",
    "df_B018_counted = df_B018['B018'].value_counts().to_frame()\n",
    "\n",
    "# Spalten umbenennen\n",
    "df_B018_counted.reset_index(inplace=True)\n",
    "df_B018_counted.rename(columns={'index': 'answer', 'B018': 'quantity'}, inplace=True)\n",
    "\n",
    "df_B018_counted"
   ]
  },
  {
   "cell_type": "code",
   "execution_count": null,
   "id": "4473e7f2",
   "metadata": {
    "scrolled": false
   },
   "outputs": [],
   "source": [
    "# Spalte \"answer\" als Index setzen\n",
    "df_B018_counted.set_index('answer', inplace=True)\n",
    "\n",
    "# Säulendiagramm plotten\n",
    "df_B018_counted.plot.bar(color=orange_rgb)\n",
    "plt.xlabel('Answer')\n",
    "plt.ylabel('Quantity')\n",
    "plt.title('Knowing of online databases')\n",
    "\n",
    "# Zeige das Diagramm an\n",
    "plt.show()"
   ]
  },
  {
   "cell_type": "code",
   "execution_count": null,
   "id": "afa4340d",
   "metadata": {
    "scrolled": false
   },
   "outputs": [],
   "source": [
    "# Freitextantworten und Häufigkeit zur Frage anzeigen ->Spalte B018_1 und in neuen df schreiben\n",
    "df_B018_a = df_cleanquest_2023['B018_01'].value_counts().to_frame()\n",
    "\n",
    "# Spalten umbenennen\n",
    "df_B018_a.reset_index(inplace=True)\n",
    "df_B018_a.rename(columns={'index': 'database', 'B018_01': 'quantity'}, inplace=True)\n",
    "\n",
    "df_B018_a"
   ]
  },
  {
   "cell_type": "code",
   "execution_count": null,
   "id": "bda48cf6",
   "metadata": {
    "scrolled": true
   },
   "outputs": [],
   "source": [
    "print(df_B018_a['database'].dtype)"
   ]
  },
  {
   "cell_type": "code",
   "execution_count": null,
   "id": "b9fb905c",
   "metadata": {},
   "outputs": [],
   "source": [
    "df_B018_a['database'] = df_B018_a['database'].astype(str)"
   ]
  },
  {
   "cell_type": "code",
   "execution_count": null,
   "id": "7f924afb",
   "metadata": {},
   "outputs": [],
   "source": [
    "# Dictionary erzeugen. was im nächsten Schritt in einen df umgewandelt wird. split() hat nicht funktioniert\n",
    "data_B018_01 = {\n",
    "    'database': [\n",
    "        'CCDC',\n",
    "        'chemotion repository',\n",
    "        'Scifinder',\n",
    "        'Zenodo',\n",
    "        'ECHA databases on chemical safety',\n",
    "        'dataverseNL',\n",
    "        'Chembl',\n",
    "        'Crystallography Open Database',\n",
    "        'ICDD',\n",
    "        'echemdb.org',\n",
    "        'Seafile',\n",
    "        'Reaxis',\n",
    "        'SciFindern',\n",
    "        'Zenodo',\n",
    "        'Kadi4Mat',\n",
    "        'Nomad',\n",
    "        'SciFinder',\n",
    "        'sciencedirect',\n",
    "        'onlinelibrary.wiley',\n",
    "        'Rruff',\n",
    "        'PDB',\n",
    "        'Reaxys',\n",
    "        'SciFinder',\n",
    "        'NIST',\n",
    "        'DESY sync & share cloud',\n",
    "        'ExPaNDS',\n",
    "        'DAPHNE4NFDI',\n",
    "        'ICSD',\n",
    "        'CSD',\n",
    "        'CSD',\n",
    "        'ICSD',\n",
    "        'NOMAD',\n",
    "        'Kadi4Mat',\n",
    "        'Zenodo',\n",
    "        'nomad',\n",
    "        'materials project',\n",
    "        'Metabolights',\n",
    "        'zenodo',\n",
    "        'PubChem',\n",
    "        'NMR data bases',\n",
    "        'csd',\n",
    "        'CCDC',\n",
    "        'CSD',\n",
    "        'ccdc',\n",
    "        'Scifinder',\n",
    "        'nmrdb',\n",
    "        'Chemotion',\n",
    "        'arXiv',\n",
    "        'NCBI databases (inlc. PubChem)',\n",
    "        'ChEMBL',\n",
    "        'PDB',\n",
    "        'Darus',\n",
    "        'GitHub',\n",
    "        'SciFinder',\n",
    "        'Seek',\n",
    "        'ChEMBL',\n",
    "        'drug bank',\n",
    "        'chemeo',\n",
    "        'pubchem',\n",
    "        'ICSD',\n",
    "        'COD',\n",
    "        'CCDC',\n",
    "        'CSD',\n",
    "        'CCDC',\n",
    "        'KEGG PAthway database',\n",
    "        'SCI-Finder',\n",
    "        'reaxys',\n",
    "        'Structure databases',\n",
    "        'inptdat',\n",
    "        'Cristallographic database',\n",
    "        'NIST',\n",
    "        're3data.org',\n",
    "        'figshare',\n",
    "        'Reaxys'\n",
    "    ],\n",
    "    'quantity': [\n",
    "        2, 2, 2, 2, 1, 1, 1, 1, 1, 1,\n",
    "        1, 1, 1, 1, 1, 1, 1, 1, 1, 1,\n",
    "        1, 1, 1, 1, 1, 1, 1, 1, 1, 1,\n",
    "        1, 1, 1, 1, 1, 1, 1, 1, 1, 1,\n",
    "        1, 1, 1, 1, 1, 1, 1, 1, 1, 1,\n",
    "        1, 1, 1, 1, 1, 1, 1, 1, 1, 1,\n",
    "        1, 1, 1, 1, 1, 1, 1, 1, 1, 1,\n",
    "        1, 1, 1, 1\n",
    "    ]\n",
    "}\n",
    "\n",
    "df_B018_a_modified = pd.DataFrame(data_B018_01)\n",
    "\n",
    "print(df_B018_a_modified)"
   ]
  },
  {
   "cell_type": "code",
   "execution_count": null,
   "id": "01fab37b",
   "metadata": {
    "scrolled": true
   },
   "outputs": [],
   "source": [
    "# Werte mit gleicher Bedeutung zusammenführen\n",
    "df_B018_a_modified['database'] = df_B018_a_modified['database'].apply(lambda x: 'Cambridge Structural Database' if 'ccdc' in x.lower() or 'csd' in x.lower() or 'cristal' in x.lower() else\n",
    "                                                              ('Zenodo' if 'zen' in x.lower() else\n",
    "                                                               ('SciFinder' if 'sci' in x.lower() or 'find' in x.lower () else\n",
    "                                                                ('Reaxys' if 'reax' in x.lower() else \n",
    "                                                                 ('PubChem' if 'pubch' in x.lower() else \n",
    "                                                                  ('Chemotion' if 'chemotion' in x.lower() else\n",
    "                                                                   ('Crystallography Open Database' if 'cod' in x.lower() else\n",
    "                                                                    ('Nomad' if 'nomad' in x.lower() else x))))))))\n",
    "\n",
    "# Gruppieren der Bedeutungen und Summierung durchführen\n",
    "df_B018_grouped = df_B018_a_modified.groupby('database')['quantity'].sum().reset_index()\n",
    "\n",
    "# Ergebnisse nach Häufigkeit sortieren\n",
    "df_B018_sorted = df_B018_grouped.sort_values(by='quantity', ascending=False)\n",
    "\n",
    "df_B018_sorted"
   ]
  },
  {
   "cell_type": "code",
   "execution_count": null,
   "id": "29f69dcc",
   "metadata": {},
   "outputs": [],
   "source": [
    "# Spalte \"database\" als Index setzen\n",
    "df_B018_sorted.set_index('database', inplace=True)\n",
    "\n",
    "# Balkendiagramm anpassen\n",
    "fig, ax = plt.subplots(figsize=(10, 6))  # Größe des Diagramms anpassen\n",
    "bar_width = 0.5  # Breite der Balken anpassen\n",
    "\n",
    "# Daten mit angepasster Balkenbreite und Farbe plotten\n",
    "df_B018_sorted.plot.bar(color=orange_rgb, width=bar_width, ax=ax)\n",
    "plt.xlabel('Database')\n",
    "plt.ylabel('Quantity')\n",
    "plt.title('Most used databases')\n",
    "\n",
    "plt.show()"
   ]
  },
  {
   "cell_type": "markdown",
   "id": "177a9340",
   "metadata": {},
   "source": [
    "## B23. Have you re-used data provided by other scientists?\n",
    "### Multiple selections possible."
   ]
  },
  {
   "cell_type": "code",
   "execution_count": null,
   "id": "43c2cdf6",
   "metadata": {},
   "outputs": [],
   "source": [
    "# Spalten mit Namen, die \"B019\" enthalten, anzeigen\n",
    "df_B019 = df_cleanquest_2023.filter(like='B019')\n",
    "df_B019"
   ]
  },
  {
   "cell_type": "code",
   "execution_count": null,
   "id": "5f5973ae",
   "metadata": {
    "scrolled": true
   },
   "outputs": [],
   "source": [
    "# Leeres Dictionary für die Werte erstellen\n",
    "values_dict = {}\n",
    "\n",
    "# For-Schleife um Zeilen zu durchsuchen, bei denen die Spalte \"VAR\" den aktuellen Spaltennamen (column) enthält. \n",
    "# Ergebnis in values_dict speichern\n",
    "for col_name in df_B019:\n",
    "    values_dict[col_name] = df_values[df_values[\"VAR\"] == col_name]\n",
    "\n",
    "# Ergebnisse anzeigen\n",
    "for col_name, values_df in values_dict.items():\n",
    "    print(f\"Values for {col_name}:\")\n",
    "    print(values_df)\n",
    "    print()"
   ]
  },
  {
   "cell_type": "code",
   "execution_count": null,
   "id": "db9acf96",
   "metadata": {
    "scrolled": false
   },
   "outputs": [],
   "source": [
    "# Zeilen von Index 108 bis 120 anzeigen\n",
    "selected_rows_B019 = df_variables.iloc[108:121]\n",
    "selected_rows_B019"
   ]
  },
  {
   "cell_type": "code",
   "execution_count": null,
   "id": "a4a6ab27",
   "metadata": {},
   "outputs": [],
   "source": [
    "# Werte in Spalten umbenennen, so dass Teildisziplin bekannt wird\n",
    "# Dictionary erstellen\n",
    "col_name_clear_B019 = {\n",
    "    'B019': 'Ausweichoption (negativ) oder Anzahl',\n",
    "    'B019_01': 'Yes, data by a colleague from the same institute/working group.',\n",
    "    'B019_02': 'Yes, data by a colleague from another institute.',\n",
    "    'B019_03': 'Yes, data from supplemental materials of a publication.',\n",
    "    'B019_04': 'Yes, data from a data repository.',\n",
    "    'B019_05': 'Yes, other.',\n",
    "    'B019_05a': 'Yes, open text',\n",
    "    'B019_06': 'No, the desired data were not available.',\n",
    "    'B019_07': 'No, the desired data were not sufficiently described.',\n",
    "    'B019_08': 'No, I do not trust data from others.',\n",
    "    'B019_09': 'No, until now, it was not required to use other data.',\n",
    "    'B019_10': 'No, because',\n",
    "    'B019_10a': 'No, open text'\n",
    "}\n",
    "\n",
    "# Variable gegen Bedeutung ersetzen\n",
    "df_B019 = df_B019.rename(columns=col_name_clear_B019)\n",
    "\n",
    "# Anzahl der Vorkommen von 2 in den Spalten B019_01 - B019_10 zählen und in einen df schreiben\n",
    "df_B019_count = df_B019.apply(lambda col: (col == 2).sum()).to_frame()\n",
    "df_B019_count.reset_index(inplace=True)\n",
    "\n",
    "# Spalten umbenennen\n",
    "df_B019_count.rename(columns={'index':'re-use of data', 0:'quantity'}, inplace=True)\n",
    "df_B019_count = df_B019_count.drop(0)\n",
    "\n",
    "df_B019_count"
   ]
  },
  {
   "cell_type": "code",
   "execution_count": null,
   "id": "b5790fb3",
   "metadata": {},
   "outputs": [],
   "source": [
    "# Freitextantworten und Häufigkeit zur Frage anzeigen ->Spalte B019_5a \"Yes, other\" und in neuen df schreiben\n",
    "df_B019_a = df_cleanquest_2023['B019_05a'].value_counts().to_frame()\n",
    "\n",
    "# Spalten umbenennen\n",
    "df_B019_a.reset_index(inplace=True)\n",
    "df_B019_a.rename(columns={'index': 're-use of data', 'B019_05a': 'quantity'}, inplace=True)\n",
    "\n",
    "df_B019_a"
   ]
  },
  {
   "cell_type": "code",
   "execution_count": null,
   "id": "95048d56",
   "metadata": {},
   "outputs": [],
   "source": [
    "# Freitextantworten und Häufigkeit zur Frage anzeigen ->Spalte B019_10a \"No, because\" und in neuen df schreiben\n",
    "df_B019_b = df_cleanquest_2023['B019_10a'].value_counts().to_frame()\n",
    "\n",
    "# Spalten umbenennen\n",
    "df_B019_b.reset_index(inplace=True)\n",
    "df_B019_b.rename(columns={'index': 're-use of data', 'B019_10a': 'quantity'}, inplace=True)\n",
    "\n",
    "df_B019_b"
   ]
  },
  {
   "cell_type": "code",
   "execution_count": null,
   "id": "29890863",
   "metadata": {},
   "outputs": [],
   "source": [
    "# Zeilen mit Index 6 und 12 löschen, weil sie freien Text beinhalten.\n",
    "indices_to_drop = [6, 12]\n",
    "df_B019_count.drop(indices_to_drop, inplace=True)\n",
    "\n",
    "# Ergebnisse nach Häufigkeit sortieren\n",
    "df_B019_sorted = df_B019_count.sort_values(by='quantity', ascending=False)\n",
    "\n",
    "df_B019_sorted"
   ]
  },
  {
   "cell_type": "code",
   "execution_count": null,
   "id": "4e9aaa9f",
   "metadata": {},
   "outputs": [],
   "source": [
    "# Größe des Diagramms anpassen\n",
    "fig, ax = plt.subplots(figsize=(10, 6)) \n",
    "\n",
    "# Spalte \"re-use of data\" als Index setzen\n",
    "df_B019_sorted.set_index('re-use of data', inplace=True)\n",
    "\n",
    "# Balkendiagramm plotten\n",
    "bars = df_B019_sorted.plot.barh(ax=ax, color=petrol_rgb)\n",
    "\n",
    "# Füge die absoluten Werte in die Balken ein\n",
    "for bar in bars.patches:\n",
    "    ax.text(bar.get_width(), bar.get_y() + bar.get_height() / 2, int(bar.get_width()),\n",
    "            va='center', ha='right', color='white')\n",
    "\n",
    "plt.xlabel('Quantity')\n",
    "plt.ylabel('Re-use of data')\n",
    "plt.title('How the participants re-use data')\n",
    "\n",
    "plt.show()"
   ]
  },
  {
   "cell_type": "markdown",
   "id": "3f925162",
   "metadata": {},
   "source": [
    "### If yes:\n",
    "## B24. Please describe briefly for which purpose you re-used data."
   ]
  },
  {
   "cell_type": "code",
   "execution_count": null,
   "id": "0bebd19f",
   "metadata": {},
   "outputs": [],
   "source": [
    "# Spalten mit Namen, die \"B020\" enthalten, anzeigen\n",
    "df_B020 = df_cleanquest_2023.filter(like='B020')\n",
    "df_B020"
   ]
  },
  {
   "cell_type": "code",
   "execution_count": null,
   "id": "d248f41f",
   "metadata": {
    "scrolled": true
   },
   "outputs": [],
   "source": [
    "# Extrahiere die nicht-NA-Werte aus der Spalte \"B020_01\" und speichere sie in einer Liste\n",
    "list_B020 = df_B020['B020_01'].dropna().tolist()\n",
    "\n",
    "# Zeige die Liste der nicht-NA-Werte an\n",
    "print(list_B020)"
   ]
  },
  {
   "cell_type": "code",
   "execution_count": null,
   "id": "5f87ad41",
   "metadata": {},
   "outputs": [],
   "source": [
    "# Zeige die Gesamtanzahl der Einträge in der Liste an\n",
    "gesamt_anzahl_B020 = len(list_B020)\n",
    "print(f'Gesamtanzahl der Einträge: {gesamt_anzahl_B020}')"
   ]
  },
  {
   "cell_type": "code",
   "execution_count": null,
   "id": "988ec7a9",
   "metadata": {
    "scrolled": true
   },
   "outputs": [],
   "source": [
    "from collections import Counter\n",
    "\n",
    "# Liste der gesuchten Wörter\n",
    "interessante_keywords = ['complement', 'confirm', 'compare', 'publish', 'process']  # Ersetze diese mit den tatsächlichen Wörtern\n",
    "\n",
    "# Zählen, wie oft jedes gesuchte Wort in der Liste vorkommt\n",
    "wort_zaehlen = Counter(value for value in list_B020 for wort in interessante_keywords if wort in value)\n",
    "\n",
    "# Anzahl der Vorkommen jedes gesuchten Worts ausgeben\n",
    "for wort, anzahl in wort_zaehlen.items():\n",
    "    print(f'Wort: {wort}, Anzahl: {anzahl}')"
   ]
  },
  {
   "cell_type": "code",
   "execution_count": null,
   "id": "b9885613",
   "metadata": {},
   "outputs": [],
   "source": [
    "# insgesamte Anzahl für jedes gesuchte Wort berechnen\n",
    "insgesamt_complement = wort_zaehlen['complement']\n",
    "insgesamt_compare = wort_zaehlen['compare']\n",
    "\n",
    "# insgesamte Anzahl für jedes gesuchte Wort ausgeben\n",
    "print(f'Insgesamt Anzahl für complement: {insgesamt_complement}')\n",
    "print(f'Insgesamt Anzahl für wort2: {insgesamt_compare}')"
   ]
  },
  {
   "cell_type": "code",
   "execution_count": null,
   "id": "52c95930",
   "metadata": {
    "scrolled": true
   },
   "outputs": [],
   "source": [
    "# Counter-Daten in ein df schreiben\n",
    "df_wort_zaehlen = pd.DataFrame.from_dict(wort_zaehlen, orient='index', columns=['Anzahl'])\n",
    "\n",
    "print(df_wort_zaehlen)"
   ]
  },
  {
   "cell_type": "markdown",
   "id": "a9501756",
   "metadata": {},
   "source": [
    "## B25. Do you know services that could support in handling your data (archiving, exchange with partners, publication)?\n"
   ]
  },
  {
   "cell_type": "code",
   "execution_count": null,
   "id": "2b81eefb",
   "metadata": {
    "scrolled": true
   },
   "outputs": [],
   "source": [
    "# Spalten mit Namen, die \"B018\" enthalten, anzeigen\n",
    "df_B021 = df_cleanquest_2023.filter(like='B021')\n",
    "df_B021"
   ]
  },
  {
   "cell_type": "code",
   "execution_count": null,
   "id": "70031e5d",
   "metadata": {},
   "outputs": [],
   "source": [
    "# Leeres Dictionary für die Werte erstellen\n",
    "values_dict = {}\n",
    "\n",
    "# For-Schleife um Zeilen zu durchsuchen, bei denen die Spalte \"VAR\" den aktuellen Spaltennamen (column) enthält. \n",
    "# Ergebnis in values_dict speichern\n",
    "for col_name in df_B021:\n",
    "    values_dict[col_name] = df_values[df_values[\"VAR\"] == col_name]\n",
    "\n",
    "# Ergebnisse anzeigen\n",
    "for col_name, values_df in values_dict.items():\n",
    "    print(f\"Values for {col_name}:\")\n",
    "    print(values_df)\n",
    "    print()"
   ]
  },
  {
   "cell_type": "code",
   "execution_count": null,
   "id": "d08cf486",
   "metadata": {},
   "outputs": [],
   "source": [
    "# Values gegen Bedeutung ersetzen\n",
    "df_B021.loc[:, 'B021'].replace({1: 'Yes, I know', 2: 'No', -9: 'No answer'}, inplace=True)\n",
    "\n",
    "# Bedeutungen zählen und in einen neuen df ausgeben\n",
    "df_B021_counted = df_B021['B021'].value_counts().to_frame()\n",
    "\n",
    "# Spalten umbenennen\n",
    "df_B021_counted.reset_index(inplace=True)\n",
    "df_B021_counted.rename(columns={'index': 'answer', 'B021': 'quantity'}, inplace=True)\n",
    "\n",
    "df_B021_counted"
   ]
  },
  {
   "cell_type": "code",
   "execution_count": null,
   "id": "a3be8085",
   "metadata": {
    "scrolled": false
   },
   "outputs": [],
   "source": [
    "# Spalte \"answer\" als Index setzen\n",
    "df_B021_counted.set_index('answer', inplace=True)\n",
    "\n",
    "# Balkendiagramm plotten\n",
    "df_B021_counted.plot.bar(color=orange_rgb)\n",
    "plt.xlabel('Answer')\n",
    "plt.ylabel('Quantity')\n",
    "plt.title('Knowing of services')\n",
    "\n",
    "plt.show()"
   ]
  },
  {
   "cell_type": "code",
   "execution_count": null,
   "id": "cf2d349f",
   "metadata": {},
   "outputs": [],
   "source": [
    "# Freitextantworten und Häufigkeit zur Frage anzeigen ->Spalte B021_01 und in neuen df schreiben\n",
    "df_B021_a = df_cleanquest_2023['B021_01'].value_counts().to_frame()\n",
    "\n",
    "# Spalten umbenennen\n",
    "df_B021_a.reset_index(inplace=True)\n",
    "df_B021_a.rename(columns={'index': 'service', 'B021_01': 'quantity'}, inplace=True)\n",
    "\n",
    "df_B021_a"
   ]
  },
  {
   "cell_type": "code",
   "execution_count": null,
   "id": "76932cc2",
   "metadata": {},
   "outputs": [],
   "source": [
    "# Angaben in der Spalte aufteilen, bei denen mehrere Angaben durch Kommas getrennt sind\n",
    "df_B021_a['service'] = df_B021_a['service'].str.split(',')\n",
    "\n",
    "# aufgeteilte Angaben in separate Zeilen zu schreiben\n",
    "df_B021_a_exploded = df_B021_a.explode('service')\n",
    "\n",
    "print(df_B021_a_exploded)"
   ]
  },
  {
   "cell_type": "code",
   "execution_count": null,
   "id": "46ece716",
   "metadata": {},
   "outputs": [],
   "source": [
    "# Werte mit gleicher Bedeutung zusammenführen\n",
    "df_B021_a_exploded['service'] = df_B021_a_exploded['service'].apply(lambda x: 'Cambridge Structural Database' if 'ccdc' in x.lower() or 'csd' in x.lower() or 'cristal' in x.lower() else\n",
    "                                                              ('Zenodo' if 'zen' in x.lower() else\n",
    "                                                               ('SciFinder' if 'sci' in x.lower() or 'find' in x.lower () else\n",
    "                                                                ('Reaxys' if 'reax' in x.lower() else \n",
    "                                                                 ('PubChem' if 'pubch' in x.lower() else \n",
    "                                                                  ('Chemotion' if 'chemotion' in x.lower() else\n",
    "                                                                   ('Crystallography Open Database' if 'cod' in x.lower() else\n",
    "                                                                    ('Nomad' if 'nomad' in x.lower() else \n",
    "                                                                     ('GitHub/GitLab' if 'git' in x.lower() else \n",
    "                                                                      ('Cloud service' if 'sciebo' in x.lower() or 'cloud' in x.lower () or 'sync' in x.lower () or 'share' in x.lower () else\n",
    "                                                                       ('Institutional service' if 'university' in x.lower() or 'department' in x.lower () or 'library' in x.lower () or 'institut' in x.lower () or 'local' in x.lower () or 'darus' in x.lower () else \n",
    "                                                                        ('eLabFTW' if 'ftw' in x.lower() else \n",
    "                                                                         ('ELN in general' if 'eln' in x.lower() else\n",
    "                                                                          ('NFDI' if 'nfdi' in x.lower() else x))))))))))))))\n",
    "\n",
    "# Gruppieren der Bedeutungen und Summierung durchführen\n",
    "df_B021_grouped = df_B021_a_exploded.groupby('service')['quantity'].sum().reset_index()\n",
    "\n",
    "# Ergebnisse nach Häufigkeit sortieren\n",
    "df_B021_sorted = df_B021_grouped.sort_values(by='quantity', ascending=False)\n",
    "\n",
    "df_B021_sorted"
   ]
  },
  {
   "cell_type": "code",
   "execution_count": null,
   "id": "4289ca01",
   "metadata": {
    "scrolled": false
   },
   "outputs": [],
   "source": [
    "# Größe des Diagramms anpassen\n",
    "fig, ax = plt.subplots(figsize=(10, 6))\n",
    "\n",
    "# Zeilen mit einer Quantity von über 3 filtern\n",
    "df_B021_filtered = df_B021_sorted[df_B021_sorted['quantity'] > 3]\n",
    "\n",
    "# Spalte \"service\" als Index setzen\n",
    "df_B021_filtered.set_index('service', inplace=True)\n",
    "\n",
    "# Balkendiagramm plotten\n",
    "bars_B021 = df_B021_filtered.plot.barh(ax=ax, color=petrol_rgb)\n",
    "\n",
    "# absolute Werte in die Balken einfügen\n",
    "for bar in bars_B021.patches:\n",
    "    ax.text(bar.get_width(), bar.get_y() + bar.get_height() / 2, int(bar.get_width()),\n",
    "            va='center', ha='right', color='white')\n",
    "\n",
    "plt.xlabel('Quantity')\n",
    "plt.ylabel('Service')\n",
    "plt.title('Kind of Services the participants use')\n",
    "\n",
    "plt.show()"
   ]
  },
  {
   "cell_type": "markdown",
   "id": "28d53b08",
   "metadata": {},
   "source": [
    "## B26. From your point of view, describe what tools and resources for managing and publishing your research data should be created/and or how they should function/be improved?"
   ]
  },
  {
   "cell_type": "code",
   "execution_count": null,
   "id": "33e67e6e",
   "metadata": {},
   "outputs": [],
   "source": [
    "# Spalten mit Namen, die \"B022\" enthalten, anzeigen\n",
    "df_B022 = df_cleanquest_2023.filter(like='B022')\n",
    "df_B022"
   ]
  },
  {
   "cell_type": "code",
   "execution_count": null,
   "id": "80b2f6e9",
   "metadata": {
    "scrolled": true
   },
   "outputs": [],
   "source": [
    "# Extrahiere die nicht-NA-Werte aus der Spalte \"B022_01\" und speichere sie in einer Liste\n",
    "list_B022 = df_B022['B022_01'].dropna().tolist()\n",
    "\n",
    "# Zeige die Liste der nicht-NA-Werte an\n",
    "print(list_B022)"
   ]
  },
  {
   "cell_type": "code",
   "execution_count": null,
   "id": "f2667da9",
   "metadata": {},
   "outputs": [],
   "source": [
    "# Zeige die Gesamtanzahl der Einträge in der Liste an\n",
    "gesamt_anzahl_B022 = len(list_B022)\n",
    "print(f'Gesamtanzahl der Einträge: {gesamt_anzahl_B022}')"
   ]
  },
  {
   "cell_type": "markdown",
   "id": "049d8d6c",
   "metadata": {},
   "source": [
    "## B27. What does not work at all in your own data management and should urgently be improved?"
   ]
  },
  {
   "cell_type": "code",
   "execution_count": null,
   "id": "adc2a968",
   "metadata": {},
   "outputs": [],
   "source": [
    "# Spalten mit Namen, die \"B023\" enthalten, anzeigen\n",
    "df_B023 = df_cleanquest_2023.filter(like='B023')\n",
    "df_B023"
   ]
  },
  {
   "cell_type": "code",
   "execution_count": null,
   "id": "79eedac5",
   "metadata": {
    "scrolled": true
   },
   "outputs": [],
   "source": [
    "# nicht-NA-Werte aus der Spalte \"B023_01\" extrahieren und als Liste speichern\n",
    "list_B023 = df_B023['B023_01'].dropna().tolist()\n",
    "\n",
    "print(list_B023)"
   ]
  },
  {
   "cell_type": "code",
   "execution_count": null,
   "id": "b65bb973",
   "metadata": {},
   "outputs": [],
   "source": [
    "# Zeige die Gesamtanzahl der Einträge in der Liste an\n",
    "gesamt_anzahl_B023 = len(list_B023)\n",
    "print(f'Gesamtanzahl der Einträge: {gesamt_anzahl_B023}')"
   ]
  },
  {
   "cell_type": "markdown",
   "id": "e1d1d8c3",
   "metadata": {},
   "source": [
    "## B28. What is the largest obstacle for you to share data?\n",
    "### Multiple selections possible."
   ]
  },
  {
   "cell_type": "code",
   "execution_count": null,
   "id": "5add0f76",
   "metadata": {},
   "outputs": [],
   "source": [
    "# Spalten mit Namen, die \"B024\" enthalten, anzeigen\n",
    "df_B024 = df_cleanquest_2023.filter(like='B024')\n",
    "df_B024"
   ]
  },
  {
   "cell_type": "code",
   "execution_count": null,
   "id": "20acee49",
   "metadata": {},
   "outputs": [],
   "source": [
    "# Leeres Dictionary für die Werte erstellen\n",
    "values_dict = {}\n",
    "\n",
    "# For-Schleife um Zeilen zu durchsuchen, bei denen die Spalte \"VAR\" den aktuellen Spaltennamen (column) enthält. \n",
    "# Ergebnis in values_dict speichern\n",
    "for col_name in df_B024:\n",
    "    values_dict[col_name] = df_values[df_values[\"VAR\"] == col_name]\n",
    "\n",
    "# Ergebnisse anzeigen\n",
    "for col_name, values_df in values_dict.items():\n",
    "    print(f\"Values for {col_name}:\")\n",
    "    print(values_df)\n",
    "    print()"
   ]
  },
  {
   "cell_type": "code",
   "execution_count": null,
   "id": "7daec80b",
   "metadata": {
    "scrolled": true
   },
   "outputs": [],
   "source": [
    "# Zeilen von Index 126 bis 135 anzeigen\n",
    "selected_rows_B024 = df_variables.iloc[126:136]\n",
    "selected_rows_B024"
   ]
  },
  {
   "cell_type": "code",
   "execution_count": null,
   "id": "3e23419c",
   "metadata": {},
   "outputs": [],
   "source": [
    "# Spalten umbenennen, so dass Teildisziplin bekannt wird\n",
    "# Dictionary erstellen\n",
    "col_name_clear_B024 = {\n",
    "    'B024': 'Ausweichoption (negativ) oder Anzahl',\n",
    "    'B024_01': 'Not enough time',\n",
    "    'B024_02': 'Fear of stolen data',\n",
    "    'B024_03': 'Not enough money',\n",
    "    'B024_04': 'Not enough knowledge',\n",
    "    'B024_05': 'Not yet thought about it',\n",
    "    'B024_06': 'My data are not meaningful to others.',\n",
    "    'B024_07': 'Adequate software tools / infrastructures / services etc. are not available',\n",
    "    'B024_08': 'Other',\n",
    "    'B024_08a': 'Open Text'\n",
    "}\n",
    "\n",
    "# Values durch die Bedeutung ersetzen\n",
    "df_B024 = df_B024.rename(columns=col_name_clear_B024)\n",
    "\n",
    "# Anzahl der Vorkommen von 2 in den Spalten B024_01 - B024_08 zählen und Liste in einen df schreiben\n",
    "df_B024_count = df_B024.apply(lambda col: (col == 2).sum()).to_frame()\n",
    "\n",
    "# Spalten umbenennen\n",
    "df_B024_count.reset_index(inplace=True)\n",
    "df_B024_count.rename(columns={'index':'largest obstacle', 0:'quantity'}, inplace=True)\n",
    "\n",
    "# Index 0 löschen\n",
    "df_B024_count = df_B024_count.drop(0)\n",
    "\n",
    "df_B024_count"
   ]
  },
  {
   "cell_type": "code",
   "execution_count": null,
   "id": "42cb0e63",
   "metadata": {
    "scrolled": true
   },
   "outputs": [],
   "source": [
    "# Freitextantworten und Häufigkeit zur Frage anzeigen ->Spalte B024_08a und in neuen df schreiben\n",
    "df_B024_a = df_cleanquest_2023['B024_08a'].value_counts().to_frame()\n",
    "\n",
    "# Spalten umbenennen\n",
    "df_B024_a.reset_index(inplace=True)\n",
    "df_B024_a.rename(columns={'index': 'largest obstacle', 'B024_08a': 'quantity'}, inplace=True)\n",
    "\n",
    "df_B024_a"
   ]
  },
  {
   "cell_type": "code",
   "execution_count": null,
   "id": "defbf173",
   "metadata": {
    "scrolled": true
   },
   "outputs": [],
   "source": [
    "# Werte mit gleicher Bedeutung zusammenführen\n",
    "df_B024_a['largest obstacle'] = df_B024_a['largest obstacle'].apply(lambda x: 'Not enough knowledge' if 'problem' in x.lower() or 'fear of error' in x.lower() else\n",
    "                                                              ('Risk-benefit analysis' if 'risk' in x.lower() else\n",
    "                                                               ('Not enough money' if 'paid' in x.lower() or 'see above' in x.lower () or 'money' in x.lower () or 'cost' in x.lower () else\n",
    "                                                                ('Non-disclosure Agreements/Legal Aspects' if 'nda' in x.lower() or 'confident' in x.lower () or 'legal' in x.lower () or 'patent' in x.lower () else \n",
    "                                                                 ('Not enough time' if 'time' in x.lower() else \n",
    "                                                                  ('No obstacle' if 'obstacle' in x.lower() or 'non' in x.lower () else\n",
    "                                                                   ('Adequate software tools / infrastructures / services etc. are not available' if 'interface' in x.lower() or 'ui' in x.lower () or 'missing' in x.lower () else x)))))))\n",
    "\n",
    "# Gruppieren und Summieren der Werte\n",
    "df_B024_grouped = df_B024_a.groupby('largest obstacle')['quantity'].sum().reset_index()\n",
    "\n",
    "\n",
    "# Ergebnisse nach Häufigkeit sortieren\n",
    "df_B024_sorted = df_B024_grouped.sort_values(by='quantity', ascending=False)\n",
    "\n",
    "df_B024_sorted"
   ]
  },
  {
   "cell_type": "code",
   "execution_count": null,
   "id": "1c625b62",
   "metadata": {
    "scrolled": true
   },
   "outputs": [],
   "source": [
    "# Dfs anhand des gemeinsamen Schlüssels 'largest obstacle' zusammenführen\n",
    "df_B024_merge = pd.merge(df_B024_count, df_B024_sorted, on='largest obstacle', how='outer')\n",
    "\n",
    "# Spalten quantity_x und quantity_y zusammenführen und Werte summieren\n",
    "df_B024_merge['merged_quantity'] = df_B024_merge[['quantity_x', 'quantity_y']].sum(axis=1)\n",
    "\n",
    "# ursprüngliche Spalten löschen\n",
    "df_B024_merge.drop(['quantity_x', 'quantity_y'], axis=1, inplace=True)\n",
    "\n",
    "df_B024_merge"
   ]
  },
  {
   "cell_type": "code",
   "execution_count": null,
   "id": "de3d023d",
   "metadata": {
    "scrolled": true
   },
   "outputs": [],
   "source": [
    "# Zeilen mit Index 7 und 8 löschen, weil sie in den Freitextantworten aufgeschlüsselt wurde und als solche eingefügt wurden.\n",
    "rows_to_delete_B024 = [7,8]\n",
    "df_B024_merge = df_B024_merge.drop(rows_to_delete_B024)\n",
    "\n",
    "# Ergebnisse nach Häufigkeit sortieren\n",
    "df_B024_msorted = df_B024_merge.sort_values(by='merged_quantity', ascending=False)\n",
    "\n",
    "df_B024_msorted"
   ]
  },
  {
   "cell_type": "code",
   "execution_count": null,
   "id": "063cc174",
   "metadata": {},
   "outputs": [],
   "source": [
    "# Größe des Diagramms anpassen\n",
    "fig, ax = plt.subplots(figsize=(10, 6))  # Hier kannst du die Größe des Diagramms anpassen\n",
    "\n",
    "# Zeilen mit einer Quantity von über 50 filtern\n",
    "df_B024_filtered = df_B024_msorted[df_B024_msorted['merged_quantity'] > 50]\n",
    "\n",
    "# Spalte \"largest obstacle\" als Index setzen\n",
    "df_B024_filtered.set_index('largest obstacle', inplace=True)\n",
    "\n",
    "# Balkendiagramm plotten\n",
    "bars_B024 = df_B024_filtered.plot.barh(ax=ax, color=petrol_rgb)\n",
    "\n",
    "# absolute Werte in die Balken einfügen\n",
    "for bar in bars_B024.patches:\n",
    "    ax.text(bar.get_width(), bar.get_y() + bar.get_height() / 2, int(bar.get_width()),\n",
    "            va='center', ha='right', color='white')\n",
    "\n",
    "plt.xlabel('Quantity')\n",
    "plt.ylabel('Largest obstacle')\n",
    "plt.title('Largest obstacle the participants have')\n",
    "\n",
    "plt.show()"
   ]
  },
  {
   "cell_type": "code",
   "execution_count": null,
   "id": "f7086e1f",
   "metadata": {},
   "outputs": [],
   "source": []
  }
 ],
 "metadata": {
  "kernelspec": {
   "display_name": "Python 3 (ipykernel)",
   "language": "python",
   "name": "python3"
  },
  "language_info": {
   "codemirror_mode": {
    "name": "ipython",
    "version": 3
   },
   "file_extension": ".py",
   "mimetype": "text/x-python",
   "name": "python",
   "nbconvert_exporter": "python",
   "pygments_lexer": "ipython3",
   "version": "3.9.13"
  }
 },
 "nbformat": 4,
 "nbformat_minor": 5
}
